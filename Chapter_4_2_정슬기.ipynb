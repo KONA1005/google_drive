{
  "nbformat": 4,
  "nbformat_minor": 0,
  "metadata": {
    "colab": {
      "name": "Chapter_4_2_정슬기.ipynb",
      "provenance": [],
      "authorship_tag": "ABX9TyNXUSxf3n1L57koeIIH5T1c",
      "include_colab_link": true
    },
    "kernelspec": {
      "name": "python3",
      "display_name": "Python 3"
    },
    "language_info": {
      "name": "python"
    }
  },
  "cells": [
    {
      "cell_type": "markdown",
      "metadata": {
        "id": "view-in-github",
        "colab_type": "text"
      },
      "source": [
        "<a href=\"https://colab.research.google.com/github/KONA1005/google_drive/blob/main/Chapter_4_2_%EC%A0%95%EC%8A%AC%EA%B8%B0.ipynb\" target=\"_parent\"><img src=\"https://colab.research.google.com/assets/colab-badge.svg\" alt=\"Open In Colab\"/></a>"
      ]
    },
    {
      "cell_type": "markdown",
      "source": [
        "# 확률적 경사 하강법\n",
        "- 오차를 줄여가는것\n",
        "- 샘플링 방식이 다르고, 샘플링을 좀더 세분화하는 다른모델과의 차이점이 있음\n",
        "- **오차보정-> 기울기를 조정(보정)한다. 손실 감소 오차 감소**\n"
      ],
      "metadata": {
        "id": "iflaygrUgy-O"
      }
    },
    {
      "cell_type": "markdown",
      "source": [
        "# 경사 = 기울기\n",
        "- 샘플을 계속 대입해서 가장 낮은 값을 샘플을 다 써서 찾는다.\n",
        "- 값은 누적(=업데이트)된다. 기울기가 0 이 나올때 까지..\n",
        "# 에포크 란?\n",
        "- 확률적 경사 하강법에서 훈련 세트를 한 번 모두 사용하는 과정\n",
        "- 일반적으로 경사 하강법은 수십, 수백 번 이상 에포크를 수행\n",
        "\n",
        "# 확률적 경사 하강법\n",
        "- 샘플 한개씩 꺼냄\n",
        "\n",
        "# 미니배치 경사 하강법\n",
        "- 샘플 여러개씩 꺼냄\n",
        "\n",
        "# 배치 경사 하강법\n",
        "- 샘플 몽땅 꺼냄\n",
        "\n",
        "# 훈련 세트를 다 사용했다? 1 에포크 완료 했다"
      ],
      "metadata": {
        "id": "0TrfooWBhGLk"
      }
    },
    {
      "cell_type": "markdown",
      "source": [
        "# 손실함수 = 오차\n",
        "- loss function\n",
        "- cost function\n",
        "- 오차, 손실, cost 같은말로 쓰임\n",
        "- 어떤 문제에서 머신러닝 알고리즘이 얼마나 엉터리인지 측정하는 기준. 손실 함수긔 값이 작을 수록 좋다. 어떤 값이 최솟값인지를 몰라서 값을 찾아 **조금씩** 이동하려면 **확률적 경사 하강법**이 잘 맞는다.\n",
        "- 분류에서 손실은 아주 확실하다. 정답을 못 맞히는 것."
      ],
      "metadata": {
        "id": "5iI7ENQXhpTJ"
      }
    },
    {
      "cell_type": "markdown",
      "source": [
        "# SGDClassifier\n",
        "- 확률적 경사하강법 분류기"
      ],
      "metadata": {
        "id": "W158Gg5jPl2e"
      }
    },
    {
      "cell_type": "code",
      "source": [
        "import pandas as pd\n",
        "fish = pd.read_csv(\"http://bit.ly/fish_csv_data\")\n",
        "fish.info()"
      ],
      "metadata": {
        "colab": {
          "base_uri": "https://localhost:8080/"
        },
        "id": "AyAF1EvDPpzv",
        "outputId": "9151d0ab-5139-4f7d-ed96-293794920d4e"
      },
      "execution_count": null,
      "outputs": [
        {
          "output_type": "stream",
          "name": "stdout",
          "text": [
            "<class 'pandas.core.frame.DataFrame'>\n",
            "RangeIndex: 159 entries, 0 to 158\n",
            "Data columns (total 6 columns):\n",
            " #   Column    Non-Null Count  Dtype  \n",
            "---  ------    --------------  -----  \n",
            " 0   Species   159 non-null    object \n",
            " 1   Weight    159 non-null    float64\n",
            " 2   Length    159 non-null    float64\n",
            " 3   Diagonal  159 non-null    float64\n",
            " 4   Height    159 non-null    float64\n",
            " 5   Width     159 non-null    float64\n",
            "dtypes: float64(5), object(1)\n",
            "memory usage: 7.6+ KB\n"
          ]
        }
      ]
    },
    {
      "cell_type": "markdown",
      "source": [
        "- 배열로 변환하는 코드\n",
        "  + 독립변수 = fish_input\n",
        "  + 종속변수 = fish_target"
      ],
      "metadata": {
        "id": "g1o0khdtQVcx"
      }
    },
    {
      "cell_type": "code",
      "execution_count": null,
      "metadata": {
        "id": "1GfBNjbbDkcr"
      },
      "outputs": [],
      "source": [
        "fish_input = fish[['Weight','Length','Diagonal','Height','Width']].to_numpy()\n",
        "fish_target = fish['Species'].to_numpy()"
      ]
    },
    {
      "cell_type": "markdown",
      "source": [
        "- 훈련 세트와 테스트 세트로 분"
      ],
      "metadata": {
        "id": "B53NKk0NQdCK"
      }
    },
    {
      "cell_type": "code",
      "source": [
        "from sklearn.model_selection import train_test_split\n",
        "train_input, test_input, train_target, test_target = train_test_split(\n",
        "    fish_input, fish_target, random_state = 42)\n",
        "\n",
        "train_input.shape, test_input.shape, train_target.shape, test_target.shape"
      ],
      "metadata": {
        "colab": {
          "base_uri": "https://localhost:8080/"
        },
        "id": "D3hdgOjHQev6",
        "outputId": "a006bdc9-b60c-46e5-8e91-383cfafae67c"
      },
      "execution_count": null,
      "outputs": [
        {
          "output_type": "execute_result",
          "data": {
            "text/plain": [
              "((119, 5), (40, 5), (119,), (40,))"
            ]
          },
          "metadata": {},
          "execution_count": 14
        }
      ]
    },
    {
      "cell_type": "markdown",
      "source": [
        "- 표준화 처리\n",
        "  + 다시 한번 강조하지만 꼭 훈련세트에서 학습한 통계값으로 테스트 세트도 변환한다\n",
        "  + 키워드 : Data Leakage 방지"
      ],
      "metadata": {
        "id": "QppLNSmgRZjE"
      }
    },
    {
      "cell_type": "code",
      "source": [
        "from sklearn.preprocessing import StandardScaler\n",
        "ss = StandardScaler()\n",
        "ss.fit(train_input)\n",
        "\n",
        "# ss = 훈련데이터만 활용해서 이미 학습(?)이 끝난 상태\n",
        "# 표준화 처리를 훈련데이터와 테스트데이터에 동시 적용\n",
        "train_scaled = ss.transform(train_input)\n",
        "test_scaled = ss.transform(test_input)"
      ],
      "metadata": {
        "id": "F319D-UpR1nL"
      },
      "execution_count": null,
      "outputs": []
    },
    {
      "cell_type": "markdown",
      "source": [
        "# 모델 학습\n",
        "- 2개의 매개 변수 지정\n",
        "- loss = \"log\" 로지스틱 손실 함수로 지정\n",
        "- max_iter = 에포크 횟수 지정(올라갈수록 정확도 높아지네?)"
      ],
      "metadata": {
        "id": "yvylX17zR1N1"
      }
    },
    {
      "cell_type": "code",
      "source": [
        "from sklearn.linear_model import SGDClassifier\n",
        "\n",
        "# 매개변수 지정\n",
        "# 하이퍼파라미터 설정 -  매개변수 값을 dictionary 형태로 추가하는 코드 작성 가능\n",
        "# 입문자들에게는 비추천\n",
        "sc = SGDClassifier(loss= \"log\", max_iter = 10, random_state = 42)\n",
        "\n",
        "# 모형 학습\n",
        "sc.fit(train_scaled, train_target)\n",
        "\n",
        "# 스코어 점수 확인(정확도)\n",
        "print(sc.score(train_scaled, train_target))\n",
        "print(sc.score(test_scaled, test_target))"
      ],
      "metadata": {
        "colab": {
          "base_uri": "https://localhost:8080/"
        },
        "id": "daLMLc_FS-RK",
        "outputId": "ba7b5ee5-203f-4347-d57e-3a489477a0a7"
      },
      "execution_count": null,
      "outputs": [
        {
          "output_type": "stream",
          "name": "stdout",
          "text": [
            "0.773109243697479\n",
            "0.775\n"
          ]
        },
        {
          "output_type": "stream",
          "name": "stderr",
          "text": [
            "/usr/local/lib/python3.7/dist-packages/sklearn/linear_model/_stochastic_gradient.py:700: ConvergenceWarning: Maximum number of iteration reached before convergence. Consider increasing max_iter to improve the fit.\n",
            "  ConvergenceWarning,\n"
          ]
        }
      ]
    },
    {
      "cell_type": "markdown",
      "source": [
        "- 적절한 에포크 숫자를 찾자"
      ],
      "metadata": {
        "id": "yxy87SX5Ue2v"
      }
    },
    {
      "cell_type": "code",
      "source": [
        "import numpy as np \n",
        "sc = SGDClassifier(loss = \"log\",  random_state = 42)\n",
        "train_score = []\n",
        "test_score = []\n",
        "classes = np.unique(train_target)\n",
        "# partial_fit()메서드만 사용하려면 훈련 세트에 있는 전체 클래스의 레이블을 partial_fit() 메서드에 전달해줘야 하는데\n",
        "# 이를 위해 np.unique()함수로 train_target에 있는 7개 생선의 목록을 만든다. 또 에포크마다 훈련 세트와 테스트 세트에 대한\n",
        "# 점수를 기록하기 위해 2개의 리스트를 준비한것.\n",
        "\n",
        "\n",
        "for _ in range(0, 300):\n",
        "  sc.partial_fit(train_scaled, train_target, classes = classes)\n",
        "  train_score.append(sc.score(train_scaled, train_target))\n",
        "  test_score.append(sc.score(test_scaled, test_target))\n",
        "# 여기서 _은 의미 나중에 사용하지 않고 그냥 버리는 값을 넣어두는 용도.\n",
        "# 0에서 299까지 반복 횟수를 임시 저장하기 위한 용도로 사용\n",
        "\n",
        "\n",
        "\n",
        "# 정확도\n",
        "print(train_score[:5])\n",
        "print(test_score[:5])"
      ],
      "metadata": {
        "colab": {
          "base_uri": "https://localhost:8080/"
        },
        "id": "TCWqZhnrVwum",
        "outputId": "ea348ad7-f472-49c2-f83a-5309db6e212f"
      },
      "execution_count": null,
      "outputs": [
        {
          "output_type": "stream",
          "name": "stdout",
          "text": [
            "[0.5294117647058824, 0.6218487394957983, 0.6386554621848739, 0.7310924369747899, 0.7226890756302521]\n",
            "[0.65, 0.55, 0.575, 0.7, 0.7]\n"
          ]
        }
      ]
    },
    {
      "cell_type": "markdown",
      "source": [
        "- 모형 학습 시각화"
      ],
      "metadata": {
        "id": "YJFgn24BWzZK"
      }
    },
    {
      "cell_type": "code",
      "source": [
        "import matplotlib.pyplot as plt\n",
        "\n",
        "fig,ax = plt.subplots()\n",
        "ax.plot(train_score)\n",
        "ax.plot(test_score)\n",
        "ax.set_xlabel(\"epoch\")\n",
        "ax.set_ylabel(\"Accuracy\")\n",
        "plt.show()"
      ],
      "metadata": {
        "colab": {
          "base_uri": "https://localhost:8080/",
          "height": 279
        },
        "id": "LYT-V9OOW0l0",
        "outputId": "8ca7f7d0-0244-4d14-8de5-1e05092d8b0c"
      },
      "execution_count": null,
      "outputs": [
        {
          "output_type": "display_data",
          "data": {
            "text/plain": [
              "<Figure size 432x288 with 1 Axes>"
            ],
            "image/png": "[encoded data removed]"
          },
          "metadata": {
            "needs_background": "light"
          }
        }
      ]
    },
    {
      "cell_type": "markdown",
      "source": [
        "100번째 에포크 이후 훈련 세트와 테스트 세트의 점수가 벌어짐. 확실히 에포크 초기에는 **과소적합**되어 훈련 세트와 테스트 세트의 점수가 낮음. 100번째가 적당한 반복횟수로 보임"
      ],
      "metadata": {
        "id": "y0A8o55OuJCI"
      }
    },
    {
      "cell_type": "markdown",
      "source": [
        "- 반복횟수 100번으로 늘리고 훈련하고 점수 출력\n",
        "- tol 매개변수에서 향상될 최솟값 지정. None으로 지정하여 자동으로 멈추지 않고 max_iter=100 만큼 무조건 반복하도록"
      ],
      "metadata": {
        "id": "PeCq6scmfLl6"
      }
    },
    {
      "cell_type": "code",
      "source": [
        "sc = SGDClassifier(loss='log',max_iter = 100, tol = None, random_state=42)\n",
        "sc.fit(train_scaled, train_target)\n",
        "print(sc.score(train_scaled, train_target))\n",
        "print(sc.score(test_scaled, test_target))"
      ],
      "metadata": {
        "colab": {
          "base_uri": "https://localhost:8080/"
        },
        "id": "JFP6N-PveVf2",
        "outputId": "d2c5443d-668d-4cee-8f60-aa3bc8ec8bc3"
      },
      "execution_count": null,
      "outputs": [
        {
          "output_type": "stream",
          "name": "stdout",
          "text": [
            "0.957983193277311\n",
            "0.925\n"
          ]
        }
      ]
    },
    {
      "cell_type": "markdown",
      "source": [
        "최종 점수가 좋다. 훈련 세트와 테스트 세트에서의 정확도 점수가 비교적 높다.\n",
        "- 확률적 경사 하강법 사용한 생선 분류도 성공적이다!\n"
      ],
      "metadata": {
        "id": "yjnnZeJUfI0a"
      }
    },
    {
      "cell_type": "markdown",
      "source": [
        "확률적 경사 하강법은 손실 함수를 정의하고 가장 가파른 경사를 따라 조금씩 내려오는 알고리즘. 충분히 반복하면 훈련 세트에서 높은 점수를 얻을 수 있다.  \n",
        "# **하지만 훈련을 반복할수록 모델이 훈련 세트에 점점 더 잘 맞게 되어 어느 순간 과대적합되고 테스트 세트의 정확도가 줄어든다**"
      ],
      "metadata": {
        "id": "g_RkUfqVumF1"
      }
    }
  ]
}