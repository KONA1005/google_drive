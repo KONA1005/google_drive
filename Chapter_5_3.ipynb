{
  "nbformat": 4,
  "nbformat_minor": 0,
  "metadata": {
    "colab": {
      "name": "Chapter_5_3.ipynb",
      "provenance": [],
      "authorship_tag": "ABX9TyPUDykU0cUujCF6KQu7fLnE",
      "include_colab_link": true
    },
    "kernelspec": {
      "name": "python3",
      "display_name": "Python 3"
    },
    "language_info": {
      "name": "python"
    }
  },
  "cells": [
    {
      "cell_type": "markdown",
      "metadata": {
        "id": "view-in-github",
        "colab_type": "text"
      },
      "source": [
        "<a href=\"https://colab.research.google.com/github/KONA1005/google_drive/blob/main/Chapter_5_3.ipynb\" target=\"_parent\"><img src=\"https://colab.research.google.com/assets/colab-badge.svg\" alt=\"Open In Colab\"/></a>"
      ]
    },
    {
      "cell_type": "markdown",
      "source": [
        "# 트리의 앙상블\n",
        "- LightGBM 기억\n",
        " + GBM --> XGBoost -> LightGBM\n",
        " + 참고1) 모델 개발 속도가 빨라졌나 ?\n",
        " + 참고2) 모델의 성능이 좋아졌나?"
      ],
      "metadata": {
        "id": "4SVJjgjkmOh6"
      }
    },
    {
      "cell_type": "markdown",
      "source": [
        "## 랜덤 포레스트(Forest)\n",
        "- 결정 트리 나무를 500개 심기\n",
        "- 최종 결정은 투표방식\n",
        "  + 나무 1 : 양성\n",
        "  + 나무 2 : 음성\n",
        "  + 나무 3 : 양성\n",
        "  ....\n",
        "  ...\n",
        "  .\n",
        "  + 나무 500 : 양성\n",
        "  "
      ],
      "metadata": {
        "id": "uB3DZjOPoBBO"
      }
    },
    {
      "cell_type": "markdown",
      "source": [
        "# 데이터 셋 분리"
      ],
      "metadata": {
        "id": "OfQhCwiao9oh"
      }
    },
    {
      "cell_type": "code",
      "execution_count": 1,
      "metadata": {
        "id": "HeYLX6pumLaf"
      },
      "outputs": [],
      "source": [
        "import numpy as np\n",
        "import pandas as pd\n",
        "from sklearn.model_selection import train_test_split\n",
        "\n",
        "wine = pd.read_csv('https://bit.ly/wine_csv_data')\n",
        "\n",
        "data = wine[['alcohol', 'sugar', 'pH']].to_numpy()\n",
        "target = wine['class'].to_numpy()\n",
        "\n",
        "train_input, test_input, train_target, test_target = train_test_split(data, \n",
        "                                                                      target, \n",
        "                                                                      test_size=0.2, \n",
        "                                                                      random_state=42)"
      ]
    },
    {
      "cell_type": "markdown",
      "source": [
        "- 267p\n",
        "  + cross_validate()교차 검증 수행"
      ],
      "metadata": {
        "id": "dMyfjP1upIoX"
      }
    },
    {
      "cell_type": "code",
      "source": [
        "from sklearn.model_selection import cross_validate\n",
        "from sklearn.ensemble import RandomForestClassifier\n",
        "rf = RandomForestClassifier(n_jobs= -1, random_state= 42)\n",
        "\n",
        "scores = cross_validate(\n",
        "    rf,train_input, train_target, return_train_score = True, n_jobs= -1)\n",
        "\n",
        "print(np.mean(scores['train_score']), np.mean(scores['test_score']))"
      ],
      "metadata": {
        "colab": {
          "base_uri": "https://localhost:8080/"
        },
        "id": "CijN9VoBpUzj",
        "outputId": "7ff9e7a4-17b5-4e5b-cb9b-7c078c09f0f9"
      },
      "execution_count": 6,
      "outputs": [
        {
          "output_type": "stream",
          "name": "stdout",
          "text": [
            "0.9973541965122431 0.8905151032797809\n"
          ]
        }
      ]
    },
    {
      "cell_type": "code",
      "source": [
        "rf.fit(train_input, train_target)\n",
        "print(rf.feature_importances_)\n",
        "# 과대적합 발생"
      ],
      "metadata": {
        "colab": {
          "base_uri": "https://localhost:8080/"
        },
        "id": "zuBzmtgaqJB8",
        "outputId": "6c6b272e-cda7-4150-f183-b867523a0b40"
      },
      "execution_count": 8,
      "outputs": [
        {
          "output_type": "stream",
          "name": "stdout",
          "text": [
            "[0.23167441 0.50039841 0.26792718]\n"
          ]
        }
      ]
    },
    {
      "cell_type": "code",
      "source": [
        "rf = RandomForestClassifier(oob_score = True, n_jobs = -1, random_state= 42)\n",
        "rf.fit(train_input, train_target)\n",
        "print(rf.oob_score_)"
      ],
      "metadata": {
        "colab": {
          "base_uri": "https://localhost:8080/"
        },
        "id": "8NmFfAh2qnnW",
        "outputId": "9a2139f2-0b8d-41bb-e085-f0c1861f0064"
      },
      "execution_count": 9,
      "outputs": [
        {
          "output_type": "stream",
          "name": "stdout",
          "text": [
            "0.8934000384837406\n"
          ]
        }
      ]
    },
    {
      "cell_type": "markdown",
      "source": [
        "# 그레이디언트 부스팅\n",
        "- 이전 트리의 오차를 보완하는 방식으로 사용\n",
        "- 특징 : 깊이가 얕은 트리를 사용.\n",
        "- 학습률 매개변수로 속도를 조절한다.\n",
        "- 단점 : 속도가 느림"
      ],
      "metadata": {
        "id": "JMyzyMLWq7Hq"
      }
    },
    {
      "cell_type": "code",
      "source": [
        "from sklearn.ensemble import GradientBoostingClassifier\n",
        "gb = GradientBoostingClassifier(random_state = 42)\n",
        "scores = cross_validate(gb, train_input, train_target,\n",
        "                        return_train_score = True, n_jobs = -1)\n",
        "print(np.mean(scores['train_score']), np.mean(scores['test_score']))"
      ],
      "metadata": {
        "colab": {
          "base_uri": "https://localhost:8080/"
        },
        "id": "3rNULUIhs1pS",
        "outputId": "ea58d9be-1894-47fd-9475-4e44a6bd49dd"
      },
      "execution_count": 10,
      "outputs": [
        {
          "output_type": "stream",
          "name": "stdout",
          "text": [
            "0.8881086892152563 0.8720430147331015\n"
          ]
        }
      ]
    },
    {
      "cell_type": "code",
      "source": [
        "gb = GradientBoostingClassifier(n_estimators = 500, learning_rate = 0.2, random_state = 42)\n",
        "scores = cross_validate(gb, train_input, train_target,\n",
        "                        return_train_score = True, n_jobs = -1)\n",
        "print(np.mean(scores['train_score']), np.mean(scores['test_score']))"
      ],
      "metadata": {
        "colab": {
          "base_uri": "https://localhost:8080/"
        },
        "id": "R4FT8vkKtVKm",
        "outputId": "7b20f641-16ca-478f-a7ae-8d2390520c66"
      },
      "execution_count": 12,
      "outputs": [
        {
          "output_type": "stream",
          "name": "stdout",
          "text": [
            "0.9464595437171814 0.8780082549788999\n"
          ]
        }
      ]
    },
    {
      "cell_type": "markdown",
      "source": [
        "- 흐름\n",
        "  + 0. 데이터 전처리 / 시각화\n",
        "  + 1. 기본 모형으로 전체 흐름을 설계\n",
        "  + 2. 여러 모형으로 비교 대조\n",
        "  + 3. 비교 대조 할때 교차검증, 하이퍼파라미터 등등 성능 비교 \n",
        "  + 4. ......"
      ],
      "metadata": {
        "id": "ejCpzuirukmI"
      }
    }
  ]
}