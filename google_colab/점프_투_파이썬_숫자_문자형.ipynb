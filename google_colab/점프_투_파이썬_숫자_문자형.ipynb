{
  "nbformat": 4,
  "nbformat_minor": 0,
  "metadata": {
    "colab": {
      "name": "점프 투 파이썬 숫자 문자형.ipynb",
      "provenance": [],
      "toc_visible": true,
      "authorship_tag": "ABX9TyPANNy4tcnpesyORNS+zqUJ",
      "include_colab_link": true
    },
    "kernelspec": {
      "name": "python3",
      "display_name": "Python 3"
    },
    "language_info": {
      "name": "python"
    }
  },
  "cells": [
    {
      "cell_type": "markdown",
      "metadata": {
        "id": "view-in-github",
        "colab_type": "text"
      },
      "source": [
        "<a href=\"https://colab.research.google.com/github/KONA1005/google_drive/blob/main/google_colab/%EC%A0%90%ED%94%84_%ED%88%AC_%ED%8C%8C%EC%9D%B4%EC%8D%AC_%EC%88%AB%EC%9E%90_%EB%AC%B8%EC%9E%90%ED%98%95.ipynb\" target=\"_parent\"><img src=\"https://colab.research.google.com/assets/colab-badge.svg\" alt=\"Open In Colab\"/></a>"
      ]
    },
    {
      "cell_type": "markdown",
      "source": [
        "# 숫자형\n",
        "- 숫자 형태로 이루어진 자료형\n",
        "  + 정수 1,2,3\n",
        "  + 실수 12.3\n",
        "  "
      ],
      "metadata": {
        "id": "BYHiLh__zurN"
      }
    },
    {
      "cell_type": "markdown",
      "source": [
        "## 정수\n",
        "- integer."
      ],
      "metadata": {
        "id": "hcS7TSqrz2SU"
      }
    },
    {
      "cell_type": "code",
      "execution_count": null,
      "metadata": {
        "id": "QHldX7dkzfsH"
      },
      "outputs": [],
      "source": [
        "a = 123\n",
        "a = -178\n",
        "a = 0"
      ]
    },
    {
      "cell_type": "markdown",
      "source": [
        "## 실수 \n",
        "- 소수점이 포함된 숫자. float"
      ],
      "metadata": {
        "id": "GqFgsuRUz_Kf"
      }
    },
    {
      "cell_type": "code",
      "source": [
        "a = 1.2\n",
        "a = 3.45"
      ],
      "metadata": {
        "id": "1JkVDDSX0D3C"
      },
      "execution_count": null,
      "outputs": []
    },
    {
      "cell_type": "markdown",
      "source": [
        "# 문자형\n"
      ],
      "metadata": {
        "id": "6AGHs-U70PpP"
      }
    },
    {
      "cell_type": "markdown",
      "source": [
        "## - 문자열 만드는 방법"
      ],
      "metadata": {
        "id": "WAyZsEDh03Yn"
      }
    },
    {
      "cell_type": "markdown",
      "source": [
        "### 1. 큰따옴포로 양쪽 둘러싸기\n"
      ],
      "metadata": {
        "id": "gvbfA4lj0Soj"
      }
    },
    {
      "cell_type": "code",
      "source": [
        "\"Hello World\""
      ],
      "metadata": {
        "id": "JPiytR1T0URx"
      },
      "execution_count": null,
      "outputs": []
    },
    {
      "cell_type": "markdown",
      "source": [
        "### 2. 작은따옴표로 양쪽 둘러싸기\n"
      ],
      "metadata": {
        "id": "0RrVp7zK0WN7"
      }
    },
    {
      "cell_type": "markdown",
      "source": [
        "### 3. 큰따옴표 3개 연속 사용"
      ],
      "metadata": {
        "id": "M2B91iMk0fRV"
      }
    },
    {
      "cell_type": "code",
      "source": [
        "\"\"\"ABCDEF\"\"\""
      ],
      "metadata": {
        "id": "s2z21fCE0iMg"
      },
      "execution_count": null,
      "outputs": []
    },
    {
      "cell_type": "markdown",
      "source": [
        "### 4. 작은따옴표 3개 연속"
      ],
      "metadata": {
        "id": "omHP9Ei30lXe"
      }
    },
    {
      "cell_type": "code",
      "source": [
        "'''ABCD, FEFWED'''"
      ],
      "metadata": {
        "id": "zITh4voK0nQZ"
      },
      "execution_count": null,
      "outputs": []
    },
    {
      "cell_type": "markdown",
      "source": [
        "****"
      ],
      "metadata": {
        "id": "eZEWPNO70uQ8"
      }
    },
    {
      "cell_type": "markdown",
      "source": [
        "## - 문자열 안에 따옴표 포함시킬때"
      ],
      "metadata": {
        "id": "afI19fWb0wCu"
      }
    },
    {
      "cell_type": "markdown",
      "source": [
        "### 1. 작은따옴표 포함시키기\n",
        "- DD's favorite food is apple"
      ],
      "metadata": {
        "id": "4MBqNDjb1PPm"
      }
    },
    {
      "cell_type": "code",
      "source": [
        "food = \"DD's favorite food is apple\""
      ],
      "metadata": {
        "id": "oip9w29_1RRv"
      },
      "execution_count": null,
      "outputs": []
    },
    {
      "cell_type": "markdown",
      "source": [
        "작은따옴표로 문자열 둘러싸면 구문오류 발생"
      ],
      "metadata": {
        "id": "wMEUZV2t1r5b"
      }
    },
    {
      "cell_type": "markdown",
      "source": [
        "### 2. 큰따옴표 포함시키기"
      ],
      "metadata": {
        "id": "emtRdBR41vy9"
      }
    },
    {
      "cell_type": "markdown",
      "source": [
        "- \"Python is very easy.\" he says.\n",
        "- 작은따옴표 안에 사용된 큰따옴표는 문자열을 만드는 기호로 인식되지 않는다."
      ],
      "metadata": {
        "id": "HzYlxGsB10ta"
      }
    },
    {
      "cell_type": "code",
      "source": [
        "say = '\"Python is very easy.\" he says.'"
      ],
      "metadata": {
        "id": "M6VqjmGU150W"
      },
      "execution_count": null,
      "outputs": []
    },
    {
      "cell_type": "markdown",
      "source": [
        "### 3. 백슬래시 사용 작은따옴표, 큰따옴표 포함시키기"
      ],
      "metadata": {
        "id": "YlydYu0A2IYq"
      }
    },
    {
      "cell_type": "code",
      "source": [
        "food = 'python\\'s favorite food is peal'\n",
        "say = \"\\\"Python is very easy.\\\" he says.\""
      ],
      "metadata": {
        "id": "tgwG9MfM2MZ0"
      },
      "execution_count": null,
      "outputs": []
    },
    {
      "cell_type": "markdown",
      "source": [
        "- 백슬래시를 따옴표 앞에 삽입하면 백슬래시 뒤의 따옴표들은 문자열을 둘러싸는 기호의 의미가 아니라 문자 그 자체를 뜻하게 된다."
      ],
      "metadata": {
        "id": "hXYhE_zv2ZXQ"
      }
    },
    {
      "cell_type": "markdown",
      "source": [
        "## 여러 줄인 문자열을 변수에 대입하고 싶을 때"
      ],
      "metadata": {
        "id": "Mtq6sCOa2gyx"
      }
    },
    {
      "cell_type": "markdown",
      "source": [
        "- Life is too short\n",
        "- You need python"
      ],
      "metadata": {
        "id": "KyphuxeD2lbR"
      }
    },
    {
      "cell_type": "markdown",
      "source": [
        "### 1. 줄을 바꾸기 위한 이스케이프 코드 사용 \\n"
      ],
      "metadata": {
        "id": "9K9qWVgt2p9e"
      }
    },
    {
      "cell_type": "code",
      "source": [
        "multiline = \"Life is too short\\nYou need python\""
      ],
      "metadata": {
        "id": "qRXkCiLs2tXj"
      },
      "execution_count": null,
      "outputs": []
    },
    {
      "cell_type": "markdown",
      "source": [
        "불편하고 줄이 길어지는 단점이 있다"
      ],
      "metadata": {
        "id": "q79WHdpw2zXN"
      }
    },
    {
      "cell_type": "markdown",
      "source": [
        "### 2. 연속된 작은따옴표/큰따옴표 3개 사용"
      ],
      "metadata": {
        "id": "JiFrFj8R2115"
      }
    },
    {
      "cell_type": "code",
      "source": [
        "multiline= '''\n",
        "Likfe is too short\n",
        "You need python\n",
        "'''"
      ],
      "metadata": {
        "id": "gv_BeO8926k6"
      },
      "execution_count": 1,
      "outputs": []
    },
    {
      "cell_type": "code",
      "source": [
        "multiline= \"\"\"\n",
        "Likfe is too short\n",
        "You need python\n",
        "\"\"\""
      ],
      "metadata": {
        "id": "HVPi8i8U3CuM"
      },
      "execution_count": null,
      "outputs": []
    },
    {
      "cell_type": "code",
      "source": [
        "print(multiline)"
      ],
      "metadata": {
        "colab": {
          "base_uri": "https://localhost:8080/"
        },
        "id": "0mu6gVP73HQX",
        "outputId": "0aba95b9-efe0-41af-e785-e7cc408d01e6"
      },
      "execution_count": 2,
      "outputs": [
        {
          "output_type": "stream",
          "name": "stdout",
          "text": [
            "\n",
            "Likfe is too short\n",
            "You need python\n",
            "\n"
          ]
        }
      ]
    },
    {
      "cell_type": "markdown",
      "source": [
        "- \\n\t문자열 안에서 줄을 바꿀 때 사용\n",
        "- \\t\t문자열 사이에 탭 간격을 줄 때 사용\n",
        "- \\\\\t문자 \\를 그대로 표현할 때 사용\n",
        "- \\'\t작은따옴표(')를 그대로 표현할 때 사용\n",
        "- \\\"\t큰따옴표(\")를 그대로 표현할 때 사용\n",
        "- \\r\t캐리지 리턴(줄 바꿈 문자, 현재 커서를 가장 앞으로 이동)\n",
        "- \\f\t폼 피드(줄 바꿈 문자, 현재 커서를 다음 줄로 이동)\n",
        "- \\a\t벨 소리(출력할 때 PC 스피커에서 '삑' 소리가 난다)\n",
        "- \\b\t백 스페이스\n",
        "- \\000\t널 문자"
      ],
      "metadata": {
        "id": "Tzd_0KFY3QQV"
      }
    },
    {
      "cell_type": "markdown",
      "source": [
        "## 문자열 연산하기"
      ],
      "metadata": {
        "id": "jORrxkqS3ZgO"
      }
    },
    {
      "cell_type": "markdown",
      "source": [
        "### 1. 연결하기 Concatenation"
      ],
      "metadata": {
        "id": "gKnji0a94YZM"
      }
    },
    {
      "cell_type": "code",
      "source": [
        "head = \"Python\"\n",
        "tail = \" is fun!\"\n",
        "head + tail"
      ],
      "metadata": {
        "colab": {
          "base_uri": "https://localhost:8080/",
          "height": 36
        },
        "id": "XmwLzFbl4b0_",
        "outputId": "f21ada3f-a322-4951-8139-4321ff78889f"
      },
      "execution_count": 8,
      "outputs": [
        {
          "output_type": "execute_result",
          "data": {
            "text/plain": [
              "'Python is fun!'"
            ],
            "application/vnd.google.colaboratory.intrinsic+json": {
              "type": "string"
            }
          },
          "metadata": {},
          "execution_count": 8
        }
      ]
    },
    {
      "cell_type": "markdown",
      "source": [
        "### 2. 곱하기"
      ],
      "metadata": {
        "id": "InY8cfvP4iTB"
      }
    },
    {
      "cell_type": "code",
      "source": [
        "a = \"python \"\n",
        "a * 2"
      ],
      "metadata": {
        "colab": {
          "base_uri": "https://localhost:8080/",
          "height": 36
        },
        "id": "RHV1xHXp4k6T",
        "outputId": "75ccd2a6-a579-4975-ef77-6585f9f2dbca"
      },
      "execution_count": 10,
      "outputs": [
        {
          "output_type": "execute_result",
          "data": {
            "text/plain": [
              "'python python '"
            ],
            "application/vnd.google.colaboratory.intrinsic+json": {
              "type": "string"
            }
          },
          "metadata": {},
          "execution_count": 10
        }
      ]
    },
    {
      "cell_type": "markdown",
      "source": [
        "### 3. 길이 구하기"
      ],
      "metadata": {
        "id": "qFAi3cmZ4xl7"
      }
    },
    {
      "cell_type": "code",
      "source": [
        "a = \"Life is too short\"\n",
        "len(a)"
      ],
      "metadata": {
        "colab": {
          "base_uri": "https://localhost:8080/"
        },
        "id": "p9baF4mE4yyc",
        "outputId": "011920fb-8bf9-4949-8de1-9843cefa0d8d"
      },
      "execution_count": 11,
      "outputs": [
        {
          "output_type": "execute_result",
          "data": {
            "text/plain": [
              "17"
            ]
          },
          "metadata": {},
          "execution_count": 11
        }
      ]
    },
    {
      "cell_type": "markdown",
      "source": [
        "## 문자열 인덱싱 / 슬라이싱\n",
        "- 가리킨다 / 잘라낸다"
      ],
      "metadata": {
        "id": "Awe5HrG442rC"
      }
    },
    {
      "cell_type": "markdown",
      "source": [
        "****\n",
        "- 인덱싱"
      ],
      "metadata": {
        "id": "D30cJtOtArmC"
      }
    },
    {
      "cell_type": "code",
      "source": [
        "a = \"Life is too short, You need python\"\n",
        "a[3]"
      ],
      "metadata": {
        "colab": {
          "base_uri": "https://localhost:8080/",
          "height": 36
        },
        "id": "Dxjl4EIj47O4",
        "outputId": "8ee651c1-09ba-4030-a6b5-d43a56a766db"
      },
      "execution_count": 12,
      "outputs": [
        {
          "output_type": "execute_result",
          "data": {
            "text/plain": [
              "'e'"
            ],
            "application/vnd.google.colaboratory.intrinsic+json": {
              "type": "string"
            }
          },
          "metadata": {},
          "execution_count": 12
        }
      ]
    },
    {
      "cell_type": "markdown",
      "source": [
        "- 파이썬은 0 부터 숫자를 센다\n",
        "- a[번호]\n",
        "- [-1]은 뒤에서부터 첫번째"
      ],
      "metadata": {
        "id": "yuioL7-6-8HK"
      }
    },
    {
      "cell_type": "code",
      "source": [
        "a[-1]"
      ],
      "metadata": {
        "colab": {
          "base_uri": "https://localhost:8080/",
          "height": 36
        },
        "id": "7tozzkk4_EA-",
        "outputId": "e5357900-6244-40c4-d29b-906eb0067f79"
      },
      "execution_count": 13,
      "outputs": [
        {
          "output_type": "execute_result",
          "data": {
            "text/plain": [
              "'n'"
            ],
            "application/vnd.google.colaboratory.intrinsic+json": {
              "type": "string"
            }
          },
          "metadata": {},
          "execution_count": 13
        }
      ]
    },
    {
      "cell_type": "markdown",
      "source": [
        "- 슬라이싱\n"
      ],
      "metadata": {
        "id": "uTtyitdWAutY"
      }
    },
    {
      "cell_type": "code",
      "source": [
        "a[0:3]"
      ],
      "metadata": {
        "colab": {
          "base_uri": "https://localhost:8080/",
          "height": 36
        },
        "id": "g2KoRJ7fAvkc",
        "outputId": "f8a5674c-d93e-4910-dbb9-458890094f91"
      },
      "execution_count": 16,
      "outputs": [
        {
          "output_type": "execute_result",
          "data": {
            "text/plain": [
              "'Lif'"
            ],
            "application/vnd.google.colaboratory.intrinsic+json": {
              "type": "string"
            }
          },
          "metadata": {},
          "execution_count": 16
        }
      ]
    },
    {
      "cell_type": "markdown",
      "source": [
        "- a[시작번호 : 끝번호]\n",
        "- **끝번호는 포함하지 않는다**\n",
        "- 0 <= a < 3\n",
        "- 공백도 센다. 시작이 0 일 필요 없다"
      ],
      "metadata": {
        "id": "HFkQ9VZ-A0b8"
      }
    },
    {
      "cell_type": "code",
      "source": [
        "print(a[5:7])\n",
        "print(a[12:17])\n",
        "print(a[:19])\n",
        "print(a[:])\n",
        "print(a[19:-7])"
      ],
      "metadata": {
        "colab": {
          "base_uri": "https://localhost:8080/"
        },
        "id": "lglbFKndBpfq",
        "outputId": "cf9250a7-95ab-454a-80db-299c174c2f1d"
      },
      "execution_count": 23,
      "outputs": [
        {
          "output_type": "stream",
          "name": "stdout",
          "text": [
            "is\n",
            "short\n",
            "Life is too short, \n",
            "Life is too short, You need python\n",
            "You need\n"
          ]
        }
      ]
    },
    {
      "cell_type": "markdown",
      "source": [
        "### 슬라이싱으로 문자열 나누기\n",
        "****"
      ],
      "metadata": {
        "id": "sf_NdZXmCEaF"
      }
    },
    {
      "cell_type": "code",
      "source": [
        "a = \"20010331Rainy\"\n",
        "date = a[:8]\n",
        "weather = a[8:]\n",
        "print(date)\n",
        "print(weather)"
      ],
      "metadata": {
        "colab": {
          "base_uri": "https://localhost:8080/"
        },
        "id": "hRGi5PgvCJ-E",
        "outputId": "98779917-526f-4df4-92f4-81d4d02aa6ca"
      },
      "execution_count": 25,
      "outputs": [
        {
          "output_type": "stream",
          "name": "stdout",
          "text": [
            "20010331\n",
            "Rainy\n"
          ]
        }
      ]
    },
    {
      "cell_type": "code",
      "source": [
        "a = \"20010331Rainy\"\n",
        "year = a[:4]\n",
        "day = a[4:8]\n",
        "weather = a[:8]\n",
        "print(year)\n",
        "print(day)\n",
        "print(weather)"
      ],
      "metadata": {
        "colab": {
          "base_uri": "https://localhost:8080/"
        },
        "id": "ViOOxJdYCarO",
        "outputId": "07cb147d-7e52-4158-a8a0-45202254812a"
      },
      "execution_count": 26,
      "outputs": [
        {
          "output_type": "stream",
          "name": "stdout",
          "text": [
            "2001\n",
            "0331\n",
            "20010331\n"
          ]
        }
      ]
    },
    {
      "cell_type": "markdown",
      "source": [
        "- **바꾸기**\n",
        "- 슬라이싱을 사용해 Pithon 을 Python으로 바꾸기"
      ],
      "metadata": {
        "id": "qQibKR_dCyQa"
      }
    },
    {
      "cell_type": "code",
      "source": [
        "a = \"Pithon\"\n",
        "print(a[:1])\n",
        "print(a[2:])"
      ],
      "metadata": {
        "colab": {
          "base_uri": "https://localhost:8080/"
        },
        "id": "__SMNKf8C2ua",
        "outputId": "34d8a671-e868-417b-e90a-1e4e08aba0a5"
      },
      "execution_count": 32,
      "outputs": [
        {
          "output_type": "stream",
          "name": "stdout",
          "text": [
            "P\n",
            "thon\n"
          ]
        }
      ]
    },
    {
      "cell_type": "code",
      "source": [
        "a[:1] + 'y' + a[2:]"
      ],
      "metadata": {
        "colab": {
          "base_uri": "https://localhost:8080/",
          "height": 36
        },
        "id": "9M-DV95dDdNO",
        "outputId": "54684ce8-aa7f-4678-e505-4e2156a8e5a7"
      },
      "execution_count": 33,
      "outputs": [
        {
          "output_type": "execute_result",
          "data": {
            "text/plain": [
              "'Python'"
            ],
            "application/vnd.google.colaboratory.intrinsic+json": {
              "type": "string"
            }
          },
          "metadata": {},
          "execution_count": 33
        }
      ]
    },
    {
      "cell_type": "markdown",
      "source": [
        "## 문자열 포매팅\n",
        "**\" 현재 온도는 18도 입니다.\"** 를\n",
        " 시간이 지나서 20도가 되면 다음 문장을 출력한다.\n",
        "\n",
        "**\"현재 온도는 20도 입니다.\"**\n",
        "\n",
        "20, 18 이라는 숫자만 다를뿐 같은 문자열이다.\n",
        "\n",
        "**문자열 안의 특정한 값을 바꿔야 할 경우가 있을 때 이것을 가능하게 해주는 것**"
      ],
      "metadata": {
        "id": "GSvivDqtDhq-"
      }
    },
    {
      "cell_type": "markdown",
      "source": [
        "### 1. 숫자 바로 대입 %d"
      ],
      "metadata": {
        "id": "sZfBhFKpEIiH"
      }
    },
    {
      "cell_type": "code",
      "source": [
        "\"I eat %d apples.\" %3"
      ],
      "metadata": {
        "colab": {
          "base_uri": "https://localhost:8080/",
          "height": 36
        },
        "id": "dUOGBnqIEQlV",
        "outputId": "52b54766-edfc-455b-e3df-e1e96b85975a"
      },
      "execution_count": 34,
      "outputs": [
        {
          "output_type": "execute_result",
          "data": {
            "text/plain": [
              "'I eat 3 apples.'"
            ],
            "application/vnd.google.colaboratory.intrinsic+json": {
              "type": "string"
            }
          },
          "metadata": {},
          "execution_count": 34
        }
      ]
    },
    {
      "cell_type": "markdown",
      "source": [
        "### 2. 문자열 바로 대입 %s"
      ],
      "metadata": {
        "id": "rQ_oFWoBEYU1"
      }
    },
    {
      "cell_type": "code",
      "source": [
        "\"I eat %s apples.\" %\"five\""
      ],
      "metadata": {
        "colab": {
          "base_uri": "https://localhost:8080/",
          "height": 36
        },
        "id": "uDJGLWvAEag7",
        "outputId": "0ec2dbcd-5693-4cd3-91bc-25b33c85e1b2"
      },
      "execution_count": 35,
      "outputs": [
        {
          "output_type": "execute_result",
          "data": {
            "text/plain": [
              "'I eat five apples.'"
            ],
            "application/vnd.google.colaboratory.intrinsic+json": {
              "type": "string"
            }
          },
          "metadata": {},
          "execution_count": 35
        }
      ]
    },
    {
      "cell_type": "markdown",
      "source": [
        "- %d : 숫자\n",
        "- %s : 문자\n",
        "- **문자열 대입 시 따옴표 필수**"
      ],
      "metadata": {
        "id": "h9MCsjQrEgNh"
      }
    },
    {
      "cell_type": "markdown",
      "source": [
        "### 3. 숫자 값을 나타내는 변수로 대입\n",
        "\n"
      ],
      "metadata": {
        "id": "tETRgLvpEq8i"
      }
    },
    {
      "cell_type": "code",
      "source": [
        "number = 3\n",
        "\"I eat %d apples.\" % number"
      ],
      "metadata": {
        "colab": {
          "base_uri": "https://localhost:8080/",
          "height": 36
        },
        "id": "yhatmm33ExaC",
        "outputId": "2c0598bb-3e62-4ad2-ea9c-deb135ea2add"
      },
      "execution_count": 36,
      "outputs": [
        {
          "output_type": "execute_result",
          "data": {
            "text/plain": [
              "'I eat 3 apples.'"
            ],
            "application/vnd.google.colaboratory.intrinsic+json": {
              "type": "string"
            }
          },
          "metadata": {},
          "execution_count": 36
        }
      ]
    },
    {
      "cell_type": "markdown",
      "source": [
        "### 4. 2개 이상의 값 넣기"
      ],
      "metadata": {
        "id": "x3zOPKFjE2bt"
      }
    },
    {
      "cell_type": "code",
      "source": [
        "number = 10\n",
        "day = \"there\"\n",
        "\n",
        "\"I eat %d apples. so I was sick for %s days.\" % (number, day)"
      ],
      "metadata": {
        "colab": {
          "base_uri": "https://localhost:8080/",
          "height": 36
        },
        "id": "YFYMq40JE4EU",
        "outputId": "85da20ba-4611-4e3e-d323-e94330f8a80f"
      },
      "execution_count": 37,
      "outputs": [
        {
          "output_type": "execute_result",
          "data": {
            "text/plain": [
              "'I eat 10 apples. so I was sick for there days.'"
            ],
            "application/vnd.google.colaboratory.intrinsic+json": {
              "type": "string"
            }
          },
          "metadata": {},
          "execution_count": 37
        }
      ]
    },
    {
      "cell_type": "markdown",
      "source": [
        "- %s\t문자열(String)\n",
        "- %c\t문자 1개(character)\n",
        "- %d\t정수(Integer)\n",
        "- %f\t부동소수(floating-point)\n",
        "- %o\t8진수\n",
        "- %x\t16진수\n",
        "- %%\tLiteral % (문자 % 자체)"
      ],
      "metadata": {
        "id": "bxG7BbIsFKmD"
      }
    },
    {
      "cell_type": "markdown",
      "source": [
        "- 포맷 코드 %s\n",
        "- 3을 문자열 안에 삽입하려면 %d를 사용하고 3.324를 삽입하려면 %f를 사용해야 하지만 **%s**를 사용하면 자동으로 **%**뒤에 있는 값을 문자열로 바꾼다"
      ],
      "metadata": {
        "id": "evFep8H5FUVu"
      }
    },
    {
      "cell_type": "code",
      "source": [
        "\"I have %s apples.\" % 3"
      ],
      "metadata": {
        "colab": {
          "base_uri": "https://localhost:8080/",
          "height": 36
        },
        "id": "8SFuOhuCFl7B",
        "outputId": "2ef4073c-8408-48d8-866d-79478d7c6f93"
      },
      "execution_count": 38,
      "outputs": [
        {
          "output_type": "execute_result",
          "data": {
            "text/plain": [
              "'I have 3 apples.'"
            ],
            "application/vnd.google.colaboratory.intrinsic+json": {
              "type": "string"
            }
          },
          "metadata": {},
          "execution_count": 38
        }
      ]
    },
    {
      "cell_type": "code",
      "source": [
        "\"rate is %s\" %3.234"
      ],
      "metadata": {
        "colab": {
          "base_uri": "https://localhost:8080/",
          "height": 36
        },
        "id": "Z87fZj6fFqlo",
        "outputId": "31fcf7ab-631b-4a4e-d025-231a146f9a43"
      },
      "execution_count": 39,
      "outputs": [
        {
          "output_type": "execute_result",
          "data": {
            "text/plain": [
              "'rate is 3.234'"
            ],
            "application/vnd.google.colaboratory.intrinsic+json": {
              "type": "string"
            }
          },
          "metadata": {},
          "execution_count": 39
        }
      ]
    },
    {
      "cell_type": "markdown",
      "source": [
        "- %d와 % 를 같이 쓸때는 **%%**를 쓴다"
      ],
      "metadata": {
        "id": "EKJ8856UFx8u"
      }
    },
    {
      "cell_type": "code",
      "source": [
        "\"Error is %d%%.\" % 98"
      ],
      "metadata": {
        "colab": {
          "base_uri": "https://localhost:8080/",
          "height": 36
        },
        "id": "JrywqN9GF11L",
        "outputId": "40eaa561-ea32-4ac2-ce3e-13b8381d31d7"
      },
      "execution_count": 40,
      "outputs": [
        {
          "output_type": "execute_result",
          "data": {
            "text/plain": [
              "'Error is 98%.'"
            ],
            "application/vnd.google.colaboratory.intrinsic+json": {
              "type": "string"
            }
          },
          "metadata": {},
          "execution_count": 40
        }
      ]
    },
    {
      "cell_type": "markdown",
      "source": [
        "### 포맷 코드와 숫자 함께 사용하기"
      ],
      "metadata": {
        "id": "cISxAnpdF95P"
      }
    },
    {
      "cell_type": "markdown",
      "source": [
        "#### 1. 정렬과 공백\n"
      ],
      "metadata": {
        "id": "E-hGNSYLGN1L"
      }
    },
    {
      "cell_type": "code",
      "source": [
        "\"%10s\" % \"hi\""
      ],
      "metadata": {
        "colab": {
          "base_uri": "https://localhost:8080/",
          "height": 36
        },
        "id": "qahfdGDBGu-y",
        "outputId": "72b6ff1e-3dcb-4934-e572-2700732c734b"
      },
      "execution_count": 42,
      "outputs": [
        {
          "output_type": "execute_result",
          "data": {
            "text/plain": [
              "'        hi'"
            ],
            "application/vnd.google.colaboratory.intrinsic+json": {
              "type": "string"
            }
          },
          "metadata": {},
          "execution_count": 42
        }
      ]
    },
    {
      "cell_type": "code",
      "source": [
        "\"%-10s jane\" % \"Bye\""
      ],
      "metadata": {
        "colab": {
          "base_uri": "https://localhost:8080/",
          "height": 36
        },
        "id": "izj54jvOHF2L",
        "outputId": "8a85d83e-ae73-4d99-df22-68c3843bc2f1"
      },
      "execution_count": 44,
      "outputs": [
        {
          "output_type": "execute_result",
          "data": {
            "text/plain": [
              "'Bye        jane'"
            ],
            "application/vnd.google.colaboratory.intrinsic+json": {
              "type": "string"
            }
          },
          "metadata": {},
          "execution_count": 44
        }
      ]
    },
    {
      "cell_type": "markdown",
      "source": [
        "- %10s는 전체 길이가 10개인 문자열 공간에서 대입되는 값을 오른쪽으로 정렬하고 그 앞의 나머지는 공백으로 남겨 두라는 의미이다.\n",
        "\n",
        "- 왼쪽 정렬은 %-10s\n"
      ],
      "metadata": {
        "id": "HgFjjs0yG7UR"
      }
    },
    {
      "cell_type": "markdown",
      "source": [
        "#### 2. 소수점 표현하기"
      ],
      "metadata": {
        "id": "BWY-nZLyHN-g"
      }
    },
    {
      "cell_type": "code",
      "source": [
        "\"%0.4f\" % 3.42132465"
      ],
      "metadata": {
        "colab": {
          "base_uri": "https://localhost:8080/",
          "height": 36
        },
        "id": "K_4lBcgaHQGq",
        "outputId": "73b488bd-42a3-48b3-ce84-77294b0f8260"
      },
      "execution_count": 45,
      "outputs": [
        {
          "output_type": "execute_result",
          "data": {
            "text/plain": [
              "'3.4213'"
            ],
            "application/vnd.google.colaboratory.intrinsic+json": {
              "type": "string"
            }
          },
          "metadata": {},
          "execution_count": 45
        }
      ]
    },
    {
      "cell_type": "markdown",
      "source": [
        "- 소수점 네 번재 자리까지만 나타내고 싶은 경우 위와 같이 사용.\n",
        "\n",
        "- '.'의 의미는 소수점 포인트를 말하고 그 뒤의 숫자 4는 소수점 뒤에 나올 숫자의 개수를 말한다"
      ],
      "metadata": {
        "id": "-iPdBDxAHYyo"
      }
    },
    {
      "cell_type": "code",
      "source": [
        "\"10%.4f\" % 3.41231654"
      ],
      "metadata": {
        "colab": {
          "base_uri": "https://localhost:8080/",
          "height": 36
        },
        "id": "XbNwUXCIHhRa",
        "outputId": "5ca9faa3-198d-46a1-ec66-ee8f2426312c"
      },
      "execution_count": 46,
      "outputs": [
        {
          "output_type": "execute_result",
          "data": {
            "text/plain": [
              "'103.4123'"
            ],
            "application/vnd.google.colaboratory.intrinsic+json": {
              "type": "string"
            }
          },
          "metadata": {},
          "execution_count": 46
        }
      ]
    },
    {
      "cell_type": "markdown",
      "source": [
        "## format 함수 사용한 포매팅"
      ],
      "metadata": {
        "id": "c0xX3YLhHoc3"
      }
    },
    {
      "cell_type": "markdown",
      "source": [
        "### 숫자 바로 대입"
      ],
      "metadata": {
        "id": "qqSJBy9gHsYH"
      }
    },
    {
      "cell_type": "code",
      "source": [
        "\"I eat {0} apples\".format(3)"
      ],
      "metadata": {
        "colab": {
          "base_uri": "https://localhost:8080/",
          "height": 36
        },
        "id": "h_Ok4Hi6HtiD",
        "outputId": "e56c8e9a-aae0-4888-fe84-33611e25f443"
      },
      "execution_count": 47,
      "outputs": [
        {
          "output_type": "execute_result",
          "data": {
            "text/plain": [
              "'I eat 3 apples'"
            ],
            "application/vnd.google.colaboratory.intrinsic+json": {
              "type": "string"
            }
          },
          "metadata": {},
          "execution_count": 47
        }
      ]
    },
    {
      "cell_type": "markdown",
      "source": [
        "### 문자 바로 대입"
      ],
      "metadata": {
        "id": "QjyE9YloHzg0"
      }
    },
    {
      "cell_type": "code",
      "source": [
        "\"I eat {0}apples\".format(\"five\")"
      ],
      "metadata": {
        "colab": {
          "base_uri": "https://localhost:8080/",
          "height": 36
        },
        "id": "mumtIrFUH0i_",
        "outputId": "4a63d80e-f821-4ffa-81a0-637675fe7c93"
      },
      "execution_count": 48,
      "outputs": [
        {
          "output_type": "execute_result",
          "data": {
            "text/plain": [
              "'I eat fiveapples'"
            ],
            "application/vnd.google.colaboratory.intrinsic+json": {
              "type": "string"
            }
          },
          "metadata": {},
          "execution_count": 48
        }
      ]
    },
    {
      "cell_type": "markdown",
      "source": [
        "### 숫자 값을 가진 변수로 대입"
      ],
      "metadata": {
        "id": "D_f176pYH6FN"
      }
    },
    {
      "cell_type": "code",
      "source": [
        "number = 3\n",
        "\"I eat {0} apples\".format(number)"
      ],
      "metadata": {
        "colab": {
          "base_uri": "https://localhost:8080/",
          "height": 36
        },
        "id": "l0X6NPpAH72E",
        "outputId": "a16d7b93-5c04-421a-ac2d-0165fb7b6e38"
      },
      "execution_count": 50,
      "outputs": [
        {
          "output_type": "execute_result",
          "data": {
            "text/plain": [
              "'I eat 3 apples'"
            ],
            "application/vnd.google.colaboratory.intrinsic+json": {
              "type": "string"
            }
          },
          "metadata": {},
          "execution_count": 50
        }
      ]
    },
    {
      "cell_type": "markdown",
      "source": [
        "### 2개 이상의 값 넣기"
      ],
      "metadata": {
        "id": "s63wl4o5ICiR"
      }
    },
    {
      "cell_type": "code",
      "source": [
        "number = 10\n",
        "day = \"three\"\n",
        "\"I eat {0} apples. so I was sick for {1} days.\".format(number, day)"
      ],
      "metadata": {
        "colab": {
          "base_uri": "https://localhost:8080/",
          "height": 36
        },
        "id": "A5wdeLW7ID1g",
        "outputId": "80d43847-d28f-460b-8467-9be14cb90a45"
      },
      "execution_count": 51,
      "outputs": [
        {
          "output_type": "execute_result",
          "data": {
            "text/plain": [
              "'I eat 10 apples. so I was sick for three days.'"
            ],
            "application/vnd.google.colaboratory.intrinsic+json": {
              "type": "string"
            }
          },
          "metadata": {},
          "execution_count": 51
        }
      ]
    },
    {
      "cell_type": "markdown",
      "source": [
        "2개 이상의 값을 넣을 경우 문자열의 {0}, {1}과 같은 인덱스 항목이 format 함수의 입력값으로 순서에 맞게 바뀐다."
      ],
      "metadata": {
        "id": "nQprtaE_IP0H"
      }
    },
    {
      "cell_type": "markdown",
      "source": [
        "### 이름으로 넣기"
      ],
      "metadata": {
        "id": "u7F2ZVD9IXN7"
      }
    },
    {
      "cell_type": "code",
      "source": [
        "\"I ate {number} apples. so I was sick for {day} days.\".format(number = 10, day = 3)"
      ],
      "metadata": {
        "colab": {
          "base_uri": "https://localhost:8080/",
          "height": 36
        },
        "id": "r4k2V25ZIYKW",
        "outputId": "7b105284-a82a-4e94-e05b-08829edc155e"
      },
      "execution_count": 52,
      "outputs": [
        {
          "output_type": "execute_result",
          "data": {
            "text/plain": [
              "'I ate 10 apples. so I was sick for 3 days.'"
            ],
            "application/vnd.google.colaboratory.intrinsic+json": {
              "type": "string"
            }
          },
          "metadata": {},
          "execution_count": 52
        }
      ]
    },
    {
      "cell_type": "markdown",
      "source": [
        "### 인덱스와 이름 혼용해서 넣기"
      ],
      "metadata": {
        "id": "6imPnBD6Ig3F"
      }
    },
    {
      "cell_type": "code",
      "source": [
        "\"I ate {0} apples. so i was sick for {day} days.\".format(10, day = 3)"
      ],
      "metadata": {
        "colab": {
          "base_uri": "https://localhost:8080/",
          "height": 36
        },
        "id": "UkV36dJHIiOo",
        "outputId": "dff8b32f-902c-4aa6-e29e-927b1b04de7a"
      },
      "execution_count": 53,
      "outputs": [
        {
          "output_type": "execute_result",
          "data": {
            "text/plain": [
              "'I ate 10 apples. so i was sick for 3 days.'"
            ],
            "application/vnd.google.colaboratory.intrinsic+json": {
              "type": "string"
            }
          },
          "metadata": {},
          "execution_count": 53
        }
      ]
    },
    {
      "cell_type": "markdown",
      "source": [
        "### 왼쪽 / 오른쪽 / 가운데 정렬\n",
        "- :<10 표현식 사용. 문자열 왼쪽 정렬하고 문자열의 총 자릿수 10으로 맞춤\n",
        "- 오른쪽은 반대\n",
        "- :^ 가운데 정렬"
      ],
      "metadata": {
        "id": "AO6NSGEKIpzE"
      }
    },
    {
      "cell_type": "code",
      "source": [
        "\"{0:<10}\".format(\"hi\")"
      ],
      "metadata": {
        "colab": {
          "base_uri": "https://localhost:8080/",
          "height": 36
        },
        "id": "YUgHm5joIrEF",
        "outputId": "cca321f4-8c05-44ee-ef21-0606d924de04"
      },
      "execution_count": 56,
      "outputs": [
        {
          "output_type": "execute_result",
          "data": {
            "text/plain": [
              "'hi        '"
            ],
            "application/vnd.google.colaboratory.intrinsic+json": {
              "type": "string"
            }
          },
          "metadata": {},
          "execution_count": 56
        }
      ]
    },
    {
      "cell_type": "code",
      "source": [
        "\"{0:>10}\".format(\"hi\")"
      ],
      "metadata": {
        "colab": {
          "base_uri": "https://localhost:8080/",
          "height": 36
        },
        "id": "IcthJmo-I5wi",
        "outputId": "01359221-e649-4f90-9325-0752192f0e4a"
      },
      "execution_count": 57,
      "outputs": [
        {
          "output_type": "execute_result",
          "data": {
            "text/plain": [
              "'        hi'"
            ],
            "application/vnd.google.colaboratory.intrinsic+json": {
              "type": "string"
            }
          },
          "metadata": {},
          "execution_count": 57
        }
      ]
    },
    {
      "cell_type": "code",
      "source": [
        "\"{0:^10}\".format(\"hi\")"
      ],
      "metadata": {
        "colab": {
          "base_uri": "https://localhost:8080/",
          "height": 36
        },
        "id": "aUij59f8JGO0",
        "outputId": "f2982042-195b-46e4-bea5-06a37c5e15ce"
      },
      "execution_count": 58,
      "outputs": [
        {
          "output_type": "execute_result",
          "data": {
            "text/plain": [
              "'    hi    '"
            ],
            "application/vnd.google.colaboratory.intrinsic+json": {
              "type": "string"
            }
          },
          "metadata": {},
          "execution_count": 58
        }
      ]
    },
    {
      "cell_type": "markdown",
      "source": [
        "### 공백 채우기\n",
        "- 채워 넣을 문자 값은 정렬문자 < , > , ^ 바로 앞에 넣어야 한다."
      ],
      "metadata": {
        "id": "tCp3R5aSJLpm"
      }
    },
    {
      "cell_type": "code",
      "source": [
        "\"{0:=^10}\".format(\"hi\")"
      ],
      "metadata": {
        "colab": {
          "base_uri": "https://localhost:8080/",
          "height": 36
        },
        "id": "i0N_49ysJMru",
        "outputId": "7eaeb339-4a83-4803-bfd2-9773ca981abd"
      },
      "execution_count": 59,
      "outputs": [
        {
          "output_type": "execute_result",
          "data": {
            "text/plain": [
              "'====hi===='"
            ],
            "application/vnd.google.colaboratory.intrinsic+json": {
              "type": "string"
            }
          },
          "metadata": {},
          "execution_count": 59
        }
      ]
    },
    {
      "cell_type": "markdown",
      "source": [
        "- 가운데 ^ 정렬, 빈공간 = 로 채우기"
      ],
      "metadata": {
        "id": "-eVRgfxUJfXc"
      }
    },
    {
      "cell_type": "code",
      "source": [
        "\"{0:!<10}\".format(\"hi\")"
      ],
      "metadata": {
        "colab": {
          "base_uri": "https://localhost:8080/",
          "height": 36
        },
        "id": "N3LgLrnxJQ-p",
        "outputId": "cbf2915b-4687-4040-e25a-72440d869543"
      },
      "execution_count": 60,
      "outputs": [
        {
          "output_type": "execute_result",
          "data": {
            "text/plain": [
              "'hi!!!!!!!!'"
            ],
            "application/vnd.google.colaboratory.intrinsic+json": {
              "type": "string"
            }
          },
          "metadata": {},
          "execution_count": 60
        }
      ]
    },
    {
      "cell_type": "markdown",
      "source": [
        "- 왼쪽 < 으로 정렬, 빈공간 ! 로 채우기"
      ],
      "metadata": {
        "id": "F-CPS1YgJWkE"
      }
    },
    {
      "cell_type": "markdown",
      "source": [
        "## f 문자열 포매팅\n",
        "- 문자열 앞에 f 접두사 붙이기\n",
        "- f문자열 포매팅은 표현식을 지원한다\n",
        "  + 표현식 : 문자열 안에서 변수와 +, -  와 같은 수식을 함께 사용하는 것"
      ],
      "metadata": {
        "id": "IMBlFdLVJnBV"
      }
    },
    {
      "cell_type": "code",
      "source": [
        "name = \"홍길동\"\n",
        "age = 30\n",
        "f'나의 이름은 {name} 입니다. 나이는 {age} 입니다.'"
      ],
      "metadata": {
        "colab": {
          "base_uri": "https://localhost:8080/",
          "height": 36
        },
        "id": "z438hdqNJtbC",
        "outputId": "c89765c1-a2dd-4061-9361-c1593bbed5e0"
      },
      "execution_count": 62,
      "outputs": [
        {
          "output_type": "execute_result",
          "data": {
            "text/plain": [
              "'나의 이름은 홍길동 입니다. 나이는 30 입니다.'"
            ],
            "application/vnd.google.colaboratory.intrinsic+json": {
              "type": "string"
            }
          },
          "metadata": {},
          "execution_count": 62
        }
      ]
    },
    {
      "cell_type": "markdown",
      "source": [
        "- 딕셔너리는 f문자열 포매팅에서 다음과 같이 사용할 수 있다."
      ],
      "metadata": {
        "id": "HQzi8CZnKGRl"
      }
    },
    {
      "cell_type": "code",
      "source": [
        "d = {'name': '홍길동' , 'age':30}\n",
        "f'나의 이름은 {d[\"name\"]} 입니다. 나이는 {d[\"age\"]} 입니다.'\n"
      ],
      "metadata": {
        "colab": {
          "base_uri": "https://localhost:8080/",
          "height": 36
        },
        "id": "yDvlUQVsKJT3",
        "outputId": "adbd629f-201a-4470-99bd-0effe3ef3f17"
      },
      "execution_count": 66,
      "outputs": [
        {
          "output_type": "execute_result",
          "data": {
            "text/plain": [
              "'나의 이름은 홍길동 입니다. 나이는 30 입니다.'"
            ],
            "application/vnd.google.colaboratory.intrinsic+json": {
              "type": "string"
            }
          },
          "metadata": {},
          "execution_count": 66
        }
      ]
    },
    {
      "cell_type": "code",
      "source": [
        ">>> f'{\"hi\":<10}'  # 왼쪽 정렬\n",
        "'hi        '\n",
        ">>> f'{\"hi\":>10}'  # 오른쪽 정렬\n",
        "'        hi'\n",
        ">>> f'{\"hi\":^10}'  # 가운데 정렬\n",
        "'    hi    '"
      ],
      "metadata": {
        "colab": {
          "base_uri": "https://localhost:8080/",
          "height": 36
        },
        "id": "l06YKIoPKpmJ",
        "outputId": "ead5b520-1209-42a4-9aa8-2574f934cf5e"
      },
      "execution_count": 67,
      "outputs": [
        {
          "output_type": "execute_result",
          "data": {
            "text/plain": [
              "'    hi    '"
            ],
            "application/vnd.google.colaboratory.intrinsic+json": {
              "type": "string"
            }
          },
          "metadata": {},
          "execution_count": 67
        }
      ]
    },
    {
      "cell_type": "code",
      "source": [
        ">>> f'{\"hi\":=^10}'  # 가운데 정렬하고 '=' 문자로 공백 채우기\n",
        "'====hi===='\n",
        ">>> f'{\"hi\":!<10}'  # 왼쪽 정렬하고 '!' 문자로 공백 채우기\n",
        "'hi!!!!!!!!'"
      ],
      "metadata": {
        "colab": {
          "base_uri": "https://localhost:8080/",
          "height": 36
        },
        "id": "Rzi8ixQoKtG5",
        "outputId": "54936532-d72f-478d-a407-2dab0ea9af84"
      },
      "execution_count": 68,
      "outputs": [
        {
          "output_type": "execute_result",
          "data": {
            "text/plain": [
              "'hi!!!!!!!!'"
            ],
            "application/vnd.google.colaboratory.intrinsic+json": {
              "type": "string"
            }
          },
          "metadata": {},
          "execution_count": 68
        }
      ]
    },
    {
      "cell_type": "markdown",
      "source": [
        "f문자열에서 {} 문자를 표시하려면 두개 동시에 사용"
      ],
      "metadata": {
        "id": "en4U6MccKu5K"
      }
    },
    {
      "cell_type": "code",
      "source": [
        "f'{{ and }}'"
      ],
      "metadata": {
        "colab": {
          "base_uri": "https://localhost:8080/",
          "height": 36
        },
        "id": "KzoLAklxKxZs",
        "outputId": "3a949fef-30f7-406d-9ff7-f775b159cb38"
      },
      "execution_count": 69,
      "outputs": [
        {
          "output_type": "execute_result",
          "data": {
            "text/plain": [
              "'{ and }'"
            ],
            "application/vnd.google.colaboratory.intrinsic+json": {
              "type": "string"
            }
          },
          "metadata": {},
          "execution_count": 69
        }
      ]
    },
    {
      "cell_type": "markdown",
      "source": [
        "## 문자열 관련 함수"
      ],
      "metadata": {
        "id": "3uxHswYKK2Fx"
      }
    },
    {
      "cell_type": "markdown",
      "source": [
        "### 문자 개수 세기 count"
      ],
      "metadata": {
        "id": "CtIi0YI6K7ct"
      }
    },
    {
      "cell_type": "code",
      "source": [
        "a = \"hobby\"\n",
        "a.count('b')"
      ],
      "metadata": {
        "colab": {
          "base_uri": "https://localhost:8080/"
        },
        "id": "Mu4VLKP3LU2j",
        "outputId": "12a47ca5-cc13-4dcb-d753-5c5cbc741f89"
      },
      "execution_count": 70,
      "outputs": [
        {
          "output_type": "execute_result",
          "data": {
            "text/plain": [
              "2"
            ]
          },
          "metadata": {},
          "execution_count": 70
        }
      ]
    },
    {
      "cell_type": "markdown",
      "source": [
        "### 위치 알려주기 find"
      ],
      "metadata": {
        "id": "H4h2agh6LZ8E"
      }
    },
    {
      "cell_type": "code",
      "source": [
        "a = \"Python is the best choice\"\n",
        "print(a.find('b'))\n",
        "print('')\n",
        "print(a.find('k')) \n",
        "# 찾는 문자, 문자열이 존재하지 않으면 -1"
      ],
      "metadata": {
        "colab": {
          "base_uri": "https://localhost:8080/"
        },
        "id": "xIErceCtLcDX",
        "outputId": "a7934da4-6f99-4d85-f427-725f9c9c1e58"
      },
      "execution_count": 72,
      "outputs": [
        {
          "output_type": "stream",
          "name": "stdout",
          "text": [
            "14\n",
            "\n",
            "-1\n"
          ]
        }
      ]
    },
    {
      "cell_type": "markdown",
      "source": [
        "### 위치 알려주기 index"
      ],
      "metadata": {
        "id": "sKZMCpORLtA5"
      }
    },
    {
      "cell_type": "code",
      "source": [
        "a = \"Life is too short\"\n",
        "a.index('t')\n",
        "\n",
        "# 찾는 문자 없으면 오류 발생"
      ],
      "metadata": {
        "colab": {
          "base_uri": "https://localhost:8080/"
        },
        "id": "0KBQPfpcLujd",
        "outputId": "7be1b057-32a3-4c39-a6e1-12392e0c25a4"
      },
      "execution_count": 73,
      "outputs": [
        {
          "output_type": "execute_result",
          "data": {
            "text/plain": [
              "8"
            ]
          },
          "metadata": {},
          "execution_count": 73
        }
      ]
    },
    {
      "cell_type": "markdown",
      "source": [
        "### 문자열 삽입 join"
      ],
      "metadata": {
        "id": "2zN-3wTBL6Hm"
      }
    },
    {
      "cell_type": "code",
      "source": [
        "\",\".join('abcd')"
      ],
      "metadata": {
        "colab": {
          "base_uri": "https://localhost:8080/",
          "height": 36
        },
        "id": "OsfJEhaoL7TD",
        "outputId": "6e0d1306-b499-492a-c1c5-ae2fa7a4afb7"
      },
      "execution_count": 74,
      "outputs": [
        {
          "output_type": "execute_result",
          "data": {
            "text/plain": [
              "'a,b,c,d'"
            ],
            "application/vnd.google.colaboratory.intrinsic+json": {
              "type": "string"
            }
          },
          "metadata": {},
          "execution_count": 74
        }
      ]
    },
    {
      "cell_type": "markdown",
      "source": [
        "abcd 문자열의 각각의 문자 사이에 , 를 삽입\n"
      ],
      "metadata": {
        "id": "zPbHhMIjL_Jn"
      }
    },
    {
      "cell_type": "code",
      "source": [
        "\",\".join(['a','b','c','d'])\n",
        "# 리스트형"
      ],
      "metadata": {
        "colab": {
          "base_uri": "https://localhost:8080/",
          "height": 36
        },
        "id": "d4B5XyytMEau",
        "outputId": "abe83432-0646-40c3-9f7a-1e7bd1565711"
      },
      "execution_count": 75,
      "outputs": [
        {
          "output_type": "execute_result",
          "data": {
            "text/plain": [
              "'a,b,c,d'"
            ],
            "application/vnd.google.colaboratory.intrinsic+json": {
              "type": "string"
            }
          },
          "metadata": {},
          "execution_count": 75
        }
      ]
    },
    {
      "cell_type": "markdown",
      "source": [
        "### 대/소 문자 바꾸기"
      ],
      "metadata": {
        "id": "flkEwAKvMLNj"
      }
    },
    {
      "cell_type": "code",
      "source": [
        "a = \"hi\"\n",
        "a.upper()"
      ],
      "metadata": {
        "colab": {
          "base_uri": "https://localhost:8080/",
          "height": 36
        },
        "id": "5FZJvX4_MP31",
        "outputId": "857937bd-113c-44b4-db7a-b65328873342"
      },
      "execution_count": 76,
      "outputs": [
        {
          "output_type": "execute_result",
          "data": {
            "text/plain": [
              "'HI'"
            ],
            "application/vnd.google.colaboratory.intrinsic+json": {
              "type": "string"
            }
          },
          "metadata": {},
          "execution_count": 76
        }
      ]
    },
    {
      "cell_type": "code",
      "source": [
        "a = \"HI\"\n",
        "a.lower()"
      ],
      "metadata": {
        "colab": {
          "base_uri": "https://localhost:8080/",
          "height": 36
        },
        "id": "ckKDs5lvMSs9",
        "outputId": "ccee04eb-5c6c-4a6b-fa99-35c397bcbc96"
      },
      "execution_count": 77,
      "outputs": [
        {
          "output_type": "execute_result",
          "data": {
            "text/plain": [
              "'hi'"
            ],
            "application/vnd.google.colaboratory.intrinsic+json": {
              "type": "string"
            }
          },
          "metadata": {},
          "execution_count": 77
        }
      ]
    },
    {
      "cell_type": "markdown",
      "source": [
        "### 왼쪽 / 오른쪽 공백 지우기 lstrip / rstrip"
      ],
      "metadata": {
        "id": "fJY3dXkbMVdi"
      }
    },
    {
      "cell_type": "code",
      "source": [
        "a = \"hi \"\n",
        "a.lstrip()"
      ],
      "metadata": {
        "colab": {
          "base_uri": "https://localhost:8080/",
          "height": 36
        },
        "id": "c-VF9QwHMXc8",
        "outputId": "dbdbddf3-e075-490a-8c90-5ca78211bdea"
      },
      "execution_count": 79,
      "outputs": [
        {
          "output_type": "execute_result",
          "data": {
            "text/plain": [
              "'hi '"
            ],
            "application/vnd.google.colaboratory.intrinsic+json": {
              "type": "string"
            }
          },
          "metadata": {},
          "execution_count": 79
        }
      ]
    },
    {
      "cell_type": "code",
      "source": [
        "a = \" hi\"\n",
        "a.rstrip()"
      ],
      "metadata": {
        "colab": {
          "base_uri": "https://localhost:8080/",
          "height": 36
        },
        "id": "Vy_ixJtMMjzF",
        "outputId": "9bc447c6-4ce8-401c-993f-c8b490fa5f00"
      },
      "execution_count": 80,
      "outputs": [
        {
          "output_type": "execute_result",
          "data": {
            "text/plain": [
              "' hi'"
            ],
            "application/vnd.google.colaboratory.intrinsic+json": {
              "type": "string"
            }
          },
          "metadata": {},
          "execution_count": 80
        }
      ]
    },
    {
      "cell_type": "markdown",
      "source": [
        "### 양쪽 공백 지우기 strip"
      ],
      "metadata": {
        "id": "Gg9kXrVBMoIB"
      }
    },
    {
      "cell_type": "code",
      "source": [
        "a = \" hi \"\n",
        "a.strip()"
      ],
      "metadata": {
        "colab": {
          "base_uri": "https://localhost:8080/",
          "height": 36
        },
        "id": "d1e3p-rDMp4F",
        "outputId": "15dcbaa1-d742-496b-b967-0e9d27a1b6f3"
      },
      "execution_count": 81,
      "outputs": [
        {
          "output_type": "execute_result",
          "data": {
            "text/plain": [
              "'hi'"
            ],
            "application/vnd.google.colaboratory.intrinsic+json": {
              "type": "string"
            }
          },
          "metadata": {},
          "execution_count": 81
        }
      ]
    },
    {
      "cell_type": "markdown",
      "source": [
        "### 문자열 바꾸기 replace"
      ],
      "metadata": {
        "id": "soa0zOKLMsuG"
      }
    },
    {
      "cell_type": "code",
      "source": [
        "a = \"Life is too short\"\n",
        "a.replace(\"Life\", \"Your leg\")"
      ],
      "metadata": {
        "colab": {
          "base_uri": "https://localhost:8080/",
          "height": 36
        },
        "id": "Mrnvt7sLMuQ8",
        "outputId": "65578b24-a365-422a-ddc0-7caaf3f12da2"
      },
      "execution_count": 82,
      "outputs": [
        {
          "output_type": "execute_result",
          "data": {
            "text/plain": [
              "'Your leg is too short'"
            ],
            "application/vnd.google.colaboratory.intrinsic+json": {
              "type": "string"
            }
          },
          "metadata": {},
          "execution_count": 82
        }
      ]
    },
    {
      "cell_type": "markdown",
      "source": [
        "### 문자열 나누기 split\n",
        "\n",
        "괄호 안에 아무 것도 안넣어 주면 공백(스테이스, 탭, 엔터 등)을 기준으로 문자열을 나눠준다.\n",
        "\n",
        "괄호 안에 특정 값이 있는 경우 괄호 아느이 값을 구분자로 해서 문자열을 나눠 리스트에 들어간다."
      ],
      "metadata": {
        "id": "pehx78FqMzLV"
      }
    },
    {
      "cell_type": "code",
      "source": [
        "a = \"Life is too short\"\n",
        "a.split()"
      ],
      "metadata": {
        "colab": {
          "base_uri": "https://localhost:8080/"
        },
        "id": "2FqvfijZM0hH",
        "outputId": "8c1b1ffc-42c6-4caf-edd4-ba0bac302534"
      },
      "execution_count": 83,
      "outputs": [
        {
          "output_type": "execute_result",
          "data": {
            "text/plain": [
              "['Life', 'is', 'too', 'short']"
            ]
          },
          "metadata": {},
          "execution_count": 83
        }
      ]
    },
    {
      "cell_type": "code",
      "source": [
        "b = \"a:b:c:d\"\n",
        "b.split(\":\")"
      ],
      "metadata": {
        "colab": {
          "base_uri": "https://localhost:8080/"
        },
        "id": "RqdSxYXJM4kc",
        "outputId": "35d85c3e-ff93-4db6-9903-33bf3e7ef573"
      },
      "execution_count": 84,
      "outputs": [
        {
          "output_type": "execute_result",
          "data": {
            "text/plain": [
              "['a', 'b', 'c', 'd']"
            ]
          },
          "metadata": {},
          "execution_count": 84
        }
      ]
    }
  ]
}