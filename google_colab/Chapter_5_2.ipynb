{
  "nbformat": 4,
  "nbformat_minor": 0,
  "metadata": {
    "colab": {
      "name": "Chapter_5_2.ipynb",
      "provenance": [],
      "authorship_tag": "ABX9TyM2ac75dFzp+wuM+/DJqyEv",
      "include_colab_link": true
    },
    "kernelspec": {
      "name": "python3",
      "display_name": "Python 3"
    },
    "language_info": {
      "name": "python"
    }
  },
  "cells": [
    {
      "cell_type": "markdown",
      "metadata": {
        "id": "view-in-github",
        "colab_type": "text"
      },
      "source": [
        "<a href=\"https://colab.research.google.com/github/KONA1005/google_drive/blob/main/google_colab/Chapter_5_2.ipynb\" target=\"_parent\"><img src=\"https://colab.research.google.com/assets/colab-badge.svg\" alt=\"Open In Colab\"/></a>"
      ]
    },
    {
      "cell_type": "markdown",
      "source": [
        "# 교차 검증과 그리드 서치\n",
        "- 키워드 : 하이퍼 파라미터\n",
        "- 데이터가 작을 때 주로 사용\n",
        "- 하이퍼파라미터 란?\n",
        " + max_depth : 3 으로 놨을때 정확도 84% 나왔어\n",
        " + 모르면 디폴트만 쓰자!!\n",
        " + 가성비 (시간 대비 성능 보장 안됨)"
      ],
      "metadata": {
        "id": "l-AoPGwaMwQr"
      }
    },
    {
      "cell_type": "markdown",
      "source": [
        "# 검증 세트\n",
        "- 테스트 세트 (1회성임)\n",
        "- 훈련데이터를 훈련데이터 + 검증데이터로 재 분할\n"
      ],
      "metadata": {
        "id": "fLNa_kRBOWww"
      }
    },
    {
      "cell_type": "markdown",
      "source": [
        "## 현실\n",
        "- 테스트 데이터가 별도로 존재 하지 않음\n",
        "- 전체 데이터 = 훈련(6) + 검증(2) + 테스트(2)\n",
        "  + 테스트 데이터는 모르는 데이터로 생각해야함"
      ],
      "metadata": {
        "id": "pXptU4e9O5he"
      }
    },
    {
      "cell_type": "code",
      "execution_count": 3,
      "metadata": {
        "id": "Vk4TKdRuMpnX"
      },
      "outputs": [],
      "source": [
        "import pandas as pd\n",
        "wine = pd.read_csv(\"https://bit.ly/wine_csv_data\")\n",
        "\n",
        "data = wine[['alcohol','sugar','pH']].to_numpy()\n",
        "target = wine['class'].to_numpy()"
      ]
    },
    {
      "cell_type": "code",
      "source": [
        "from sklearn.model_selection import train_test_split\n",
        "train_input, test_input, train_target, test_target = train_test_split(\n",
        "    data, target, test_size=0.2, random_state=42\n",
        ")"
      ],
      "metadata": {
        "id": "hHp8f6zUQpBR"
      },
      "execution_count": 4,
      "outputs": []
    },
    {
      "cell_type": "code",
      "source": [
        "sub_input, val_input, sub_target, val_target = train_test_split(\n",
        "    train_input, train_target, test_size = 0.2 , random_state=42\n",
        ")"
      ],
      "metadata": {
        "id": "dC5UurayQsiY"
      },
      "execution_count": 5,
      "outputs": []
    },
    {
      "cell_type": "code",
      "source": [
        "sub_input.shape , val_input.shape, test_input.shape"
      ],
      "metadata": {
        "colab": {
          "base_uri": "https://localhost:8080/"
        },
        "id": "ni3nS_1wQ3UQ",
        "outputId": "bdebf6c9-6101-446e-9bb4-276ac705aea9"
      },
      "execution_count": 7,
      "outputs": [
        {
          "output_type": "execute_result",
          "data": {
            "text/plain": [
              "((4157, 3), (1040, 3), (1300, 3))"
            ]
          },
          "metadata": {},
          "execution_count": 7
        }
      ]
    },
    {
      "cell_type": "markdown",
      "source": [
        "# 모델 만든 후 평가\n",
        "- 과대적합 발생"
      ],
      "metadata": {
        "id": "jy20XhQ8RBBi"
      }
    },
    {
      "cell_type": "code",
      "source": [
        "from sklearn.tree import DecisionTreeClassifier\n",
        "dt = DecisionTreeClassifier(random_state=42)\n",
        "dt.fit(sub_input, sub_target)\n",
        "print(dt.score(sub_input, sub_target))\n",
        "print(dt.score(val_input, val_target))"
      ],
      "metadata": {
        "colab": {
          "base_uri": "https://localhost:8080/"
        },
        "id": "YlDO6zp3RCS5",
        "outputId": "83fd813f-3dd4-47b2-e373-808f34141119"
      },
      "execution_count": 9,
      "outputs": [
        {
          "output_type": "stream",
          "name": "stdout",
          "text": [
            "0.9971133028626413\n",
            "0.864423076923077\n"
          ]
        }
      ]
    },
    {
      "cell_type": "markdown",
      "source": [
        "# 교차 검증\n",
        "- 목적 : 좋은 모델이 만들어 진다.\n",
        " + 좋은 모델 은 성능 좋은 모델이 아니다.\n",
        " + 좋은 모델은 과대 적합이 아닌 모델 **모형의 오차가 적은 모델 (안정적인 모델)**\n",
        "- 245p\n",
        " + 모델 평가 1 : 정확도 90 / 소요시간 1시간\n",
        " + 모델 평가 2 : 정확도 85 \n",
        " + 모델 평가 3 : 정확도 80\n",
        "- 유일한 단점 : 시간이 오래걸림."
      ],
      "metadata": {
        "id": "Ov-wGDijRd6D"
      }
    },
    {
      "cell_type": "markdown",
      "source": [
        "# 교차 검증 함수"
      ],
      "metadata": {
        "id": "bDXFMk4TTXx9"
      }
    },
    {
      "cell_type": "code",
      "source": [
        "from sklearn.model_selection import cross_validate\n",
        "scores = cross_validate(dt, train_input, train_target)\n",
        "print(scores)\n"
      ],
      "metadata": {
        "colab": {
          "base_uri": "https://localhost:8080/"
        },
        "id": "com4OnUbRe8t",
        "outputId": "327627ab-e485-47f0-9432-3b2db9530e8c"
      },
      "execution_count": 10,
      "outputs": [
        {
          "output_type": "stream",
          "name": "stdout",
          "text": [
            "{'fit_time': array([0.0111351 , 0.01115823, 0.01119614, 0.01256633, 0.01010013]), 'score_time': array([0.00580072, 0.00120902, 0.00114274, 0.00117636, 0.00116658]), 'test_score': array([0.86923077, 0.84615385, 0.87680462, 0.84889317, 0.83541867])}\n"
          ]
        }
      ]
    },
    {
      "cell_type": "markdown",
      "source": [
        "- 최종 점수 평균 구하기"
      ],
      "metadata": {
        "id": "1w0QaCIBTvZa"
      }
    },
    {
      "cell_type": "code",
      "source": [
        "import numpy as np\n",
        "print(np.mean(scores['test_score']))"
      ],
      "metadata": {
        "colab": {
          "base_uri": "https://localhost:8080/"
        },
        "id": "i_by6P2-TxGg",
        "outputId": "a3a7ed35-76e9-42fc-aa8c-14e9540c6ca4"
      },
      "execution_count": 11,
      "outputs": [
        {
          "output_type": "stream",
          "name": "stdout",
          "text": [
            "0.855300214703487\n"
          ]
        }
      ]
    },
    {
      "cell_type": "markdown",
      "source": [
        "- 훈련 세트 섞은 후 10-폴드 교차검증"
      ],
      "metadata": {
        "id": "K7_7oL3RUIJR"
      }
    },
    {
      "cell_type": "code",
      "source": [
        "from sklearn.model_selection import StratifiedKFold\n",
        "splitter = StratifiedKFold(n_splits = 10, shuffle= True, random_state= 42)\n",
        "scores = cross_validate(dt, train_input, train_target, cv = splitter)\n",
        "\n",
        "print(np.mean(scores['test_score']))"
      ],
      "metadata": {
        "colab": {
          "base_uri": "https://localhost:8080/"
        },
        "id": "SuGtWL75UKir",
        "outputId": "1afcee83-0b97-4254-cd52-05a476469e27"
      },
      "execution_count": 14,
      "outputs": [
        {
          "output_type": "stream",
          "name": "stdout",
          "text": [
            "0.8574181117533719\n"
          ]
        }
      ]
    },
    {
      "cell_type": "markdown",
      "source": [
        "# 하이퍼 파라미터 튜닝 꼭 하고 싶다?\n",
        "- 랜덤 서치 사용하자\n",
        "- 자동으로 잡아주는 라이브러리들이 등장하기 시작\n",
        " + 뭐 여러개 있음\n",
        " "
      ],
      "metadata": {
        "id": "27e5kVgJaCm-"
      }
    },
    {
      "cell_type": "code",
      "source": [
        "from sklearn.model_selection import GridSearchCV\n",
        "params = {\n",
        "    'min_impurity_decrease' : [0.0001, 0.0002, 0.0003, 0.0004, 0.0005]\n",
        "}\n",
        "# 같음 dt = DecisionTreeClassifier(random_state = 42)\n",
        "gs = GridSearchCV(DecisionTreeClassifier(random_state=42), params, n_jobs= -1)\n",
        "gs.fit(train_input, train_target)"
      ],
      "metadata": {
        "colab": {
          "base_uri": "https://localhost:8080/"
        },
        "id": "gQ_qvPARbI2u",
        "outputId": "743e2390-555a-4a36-8e04-3570bb3325f8"
      },
      "execution_count": 16,
      "outputs": [
        {
          "output_type": "execute_result",
          "data": {
            "text/plain": [
              "GridSearchCV(estimator=DecisionTreeClassifier(random_state=42), n_jobs=-1,\n",
              "             param_grid={'min_impurity_decrease': [0.0001, 0.0002, 0.0003,\n",
              "                                                   0.0004, 0.0005]})"
            ]
          },
          "metadata": {},
          "execution_count": 16
        }
      ]
    },
    {
      "cell_type": "code",
      "source": [
        "dt = gs.best_estimator_\n",
        "print(dt)\n",
        "print(dt.score(train_input, train_target))\n",
        "print(gs.best_params_)"
      ],
      "metadata": {
        "colab": {
          "base_uri": "https://localhost:8080/"
        },
        "id": "HL0Z8RnXcW4Z",
        "outputId": "7e382ff1-95d8-42eb-95f4-b7e167a81146"
      },
      "execution_count": 19,
      "outputs": [
        {
          "output_type": "stream",
          "name": "stdout",
          "text": [
            "DecisionTreeClassifier(min_impurity_decrease=0.0001, random_state=42)\n",
            "0.9615162593804117\n",
            "{'min_impurity_decrease': 0.0001}\n"
          ]
        }
      ]
    },
    {
      "cell_type": "code",
      "source": [
        "print(gs.cv_results_['mean_test_score'])"
      ],
      "metadata": {
        "colab": {
          "base_uri": "https://localhost:8080/"
        },
        "id": "Pra71gn9dawX",
        "outputId": "549ca1b0-4ca7-43d7-c87e-56fffc613669"
      },
      "execution_count": 20,
      "outputs": [
        {
          "output_type": "stream",
          "name": "stdout",
          "text": [
            "[0.86819297 0.86453617 0.86492226 0.86780891 0.86761605]\n"
          ]
        }
      ]
    },
    {
      "cell_type": "markdown",
      "source": [
        "# 랜덤 서치\n",
        "- 252p. 매개변수 값의 목록을 전달하는 것이 아니라 매개변수를 샘플링할 수 있도록 확률 분포 객체를 전달"
      ],
      "metadata": {
        "id": "mDQhR6pzeLHG"
      }
    },
    {
      "cell_type": "code",
      "source": [
        "from scipy.stats import uniform, randint\n",
        "rgen = randint(0, 10)\n",
        "rgen.rvs(10)"
      ],
      "metadata": {
        "colab": {
          "base_uri": "https://localhost:8080/"
        },
        "id": "JjbJ98p0eROS",
        "outputId": "57746d78-922e-4d7c-89e3-149e89b66a8c"
      },
      "execution_count": 22,
      "outputs": [
        {
          "output_type": "execute_result",
          "data": {
            "text/plain": [
              "array([7, 0, 8, 3, 1, 8, 1, 5, 0, 8])"
            ]
          },
          "metadata": {},
          "execution_count": 22
        }
      ]
    },
    {
      "cell_type": "code",
      "source": [
        "np.unique(rgen.rvs(1000), return_counts = True)"
      ],
      "metadata": {
        "colab": {
          "base_uri": "https://localhost:8080/"
        },
        "id": "sc2f0UJ3elrJ",
        "outputId": "7af7dfa2-23e7-46e0-b074-24bba3805d50"
      },
      "execution_count": 23,
      "outputs": [
        {
          "output_type": "execute_result",
          "data": {
            "text/plain": [
              "(array([0, 1, 2, 3, 4, 5, 6, 7, 8, 9]),\n",
              " array([111, 102, 106,  87, 105, 102,  93, 104, 101,  89]))"
            ]
          },
          "metadata": {},
          "execution_count": 23
        }
      ]
    },
    {
      "cell_type": "code",
      "source": [
        "# 254p\n",
        "\n",
        "from sklearn.model_selection import RandomizedSearchCV\n",
        "\n",
        "params = {\n",
        "    'min_impurity_decrease' : uniform(0.0001, 0.001),\n",
        "    'max_depth' : randint(20,50)\n",
        "}\n",
        "\n",
        "gs = RandomizedSearchCV(DecisionTreeClassifier(random_state = 42), params, n_iter = 100, n_jobs = -1, random_state =42)\n",
        "\n",
        "gs.fit(train_input, train_target)"
      ],
      "metadata": {
        "colab": {
          "base_uri": "https://localhost:8080/"
        },
        "id": "Sr2Z6Dyuexvn",
        "outputId": "bed2ce00-925a-496b-fde1-d3978365e6de"
      },
      "execution_count": 24,
      "outputs": [
        {
          "output_type": "execute_result",
          "data": {
            "text/plain": [
              "RandomizedSearchCV(estimator=DecisionTreeClassifier(random_state=42),\n",
              "                   n_iter=100, n_jobs=-1,\n",
              "                   param_distributions={'max_depth': <scipy.stats._distn_infrastructure.rv_frozen object at 0x7f84fcf77ad0>,\n",
              "                                        'min_impurity_decrease': <scipy.stats._distn_infrastructure.rv_frozen object at 0x7f84fc52d490>},\n",
              "                   random_state=42)"
            ]
          },
          "metadata": {},
          "execution_count": 24
        }
      ]
    },
    {
      "cell_type": "code",
      "source": [
        "gs.best_params_"
      ],
      "metadata": {
        "colab": {
          "base_uri": "https://localhost:8080/"
        },
        "id": "1woetTTUexpZ",
        "outputId": "f42e008f-f58d-4b1c-a166-75097f0697f3"
      },
      "execution_count": 25,
      "outputs": [
        {
          "output_type": "execute_result",
          "data": {
            "text/plain": [
              "{'max_depth': 29, 'min_impurity_decrease': 0.000437615171403628}"
            ]
          },
          "metadata": {},
          "execution_count": 25
        }
      ]
    }
  ]
}