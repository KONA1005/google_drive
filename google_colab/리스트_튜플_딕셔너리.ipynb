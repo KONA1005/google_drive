{
  "nbformat": 4,
  "nbformat_minor": 0,
  "metadata": {
    "colab": {
      "name": "리스트_튜플_딕셔너리.ipynb",
      "provenance": [],
      "authorship_tag": "ABX9TyM3O+8WHdc5w3gu8qmg3Mru",
      "include_colab_link": true
    },
    "kernelspec": {
      "name": "python3",
      "display_name": "Python 3"
    },
    "language_info": {
      "name": "python"
    }
  },
  "cells": [
    {
      "cell_type": "markdown",
      "metadata": {
        "id": "view-in-github",
        "colab_type": "text"
      },
      "source": [
        "<a href=\"https://colab.research.google.com/github/KONA1005/google_drive/blob/main/google_colab/%EB%A6%AC%EC%8A%A4%ED%8A%B8_%ED%8A%9C%ED%94%8C_%EB%94%95%EC%85%94%EB%84%88%EB%A6%AC.ipynb\" target=\"_parent\"><img src=\"https://colab.research.google.com/assets/colab-badge.svg\" alt=\"Open In Colab\"/></a>"
      ]
    },
    {
      "cell_type": "markdown",
      "source": [
        "# 리스트\n",
        "\n",
        "대괄호로 감싸 주고 각 요솟값은 쉼표로 구분해준다."
      ],
      "metadata": {
        "id": "lIoQ1MViQhCT"
      }
    },
    {
      "cell_type": "code",
      "execution_count": null,
      "metadata": {
        "id": "vRWXojlmQbza"
      },
      "outputs": [],
      "source": [
        "a = []\n",
        "b = [1,2,3]\n",
        "c = [\"A\",\"b\",\"C]\n",
        "d = [1,2,\"G\",\"test\"]\n",
        "e = [4,6,[\"Life\",\"Like\"]]"
      ]
    },
    {
      "cell_type": "markdown",
      "source": [
        "비어 있는 리스트는 a = list() 로 생성할 수도 있다"
      ],
      "metadata": {
        "id": "YqvQ96oIQ5M1"
      }
    },
    {
      "cell_type": "markdown",
      "source": [
        "## 리스트 인덱싱 / 슬라이싱"
      ],
      "metadata": {
        "id": "WNipAOv0Q8h6"
      }
    },
    {
      "cell_type": "markdown",
      "source": [
        "### 인덱싱"
      ],
      "metadata": {
        "id": "iwtemY8HRAdp"
      }
    },
    {
      "cell_type": "code",
      "source": [
        "a = [1,2,3,4]\n",
        "# a\n",
        "a[2]"
      ],
      "metadata": {
        "colab": {
          "base_uri": "https://localhost:8080/"
        },
        "id": "9Xj3FqfcRDbX",
        "outputId": "00561723-ef63-4eea-90e7-40a3c8fd4861"
      },
      "execution_count": null,
      "outputs": [
        {
          "output_type": "execute_result",
          "data": {
            "text/plain": [
              "3"
            ]
          },
          "metadata": {},
          "execution_count": 2
        }
      ]
    },
    {
      "cell_type": "code",
      "source": [
        "a[0] + a[2]"
      ],
      "metadata": {
        "colab": {
          "base_uri": "https://localhost:8080/"
        },
        "id": "1Kd7DXhkRLbC",
        "outputId": "cb1cba70-bd31-49f7-80e1-455f2fcc294c"
      },
      "execution_count": null,
      "outputs": [
        {
          "output_type": "execute_result",
          "data": {
            "text/plain": [
              "4"
            ]
          },
          "metadata": {},
          "execution_count": 3
        }
      ]
    },
    {
      "cell_type": "code",
      "source": [
        "a[-1]"
      ],
      "metadata": {
        "colab": {
          "base_uri": "https://localhost:8080/"
        },
        "id": "gRuVS_2gROZr",
        "outputId": "48eaf5d8-32f9-4fc6-ee6b-e7e48d663e49"
      },
      "execution_count": null,
      "outputs": [
        {
          "output_type": "execute_result",
          "data": {
            "text/plain": [
              "4"
            ]
          },
          "metadata": {},
          "execution_count": 4
        }
      ]
    },
    {
      "cell_type": "code",
      "source": [
        "a = [1,2,3, ['a','b','c']]\n",
        "print(a[0])\n",
        "print(a[-1])\n",
        "\n",
        "print(a[-1][0])\n",
        "print(a[-1][1])\n",
        "print(a[-1][2])"
      ],
      "metadata": {
        "colab": {
          "base_uri": "https://localhost:8080/"
        },
        "id": "ea5eiiiYRSm8",
        "outputId": "bf02f9dc-d309-4724-bddc-7f02a8461bf6"
      },
      "execution_count": null,
      "outputs": [
        {
          "output_type": "stream",
          "name": "stdout",
          "text": [
            "1\n",
            "['a', 'b', 'c']\n",
            "a\n",
            "b\n",
            "c\n"
          ]
        }
      ]
    },
    {
      "cell_type": "markdown",
      "source": [
        "### 슬라이싱"
      ],
      "metadata": {
        "id": "tUe9QyKuRnQm"
      }
    },
    {
      "cell_type": "code",
      "source": [
        "a = [1,2,3,4,5]\n",
        "a[0:2]"
      ],
      "metadata": {
        "colab": {
          "base_uri": "https://localhost:8080/"
        },
        "id": "UYKv-MeQRozf",
        "outputId": "f438ff2c-eecf-4432-caa2-3d08de1755d7"
      },
      "execution_count": null,
      "outputs": [
        {
          "output_type": "execute_result",
          "data": {
            "text/plain": [
              "[1, 2]"
            ]
          },
          "metadata": {},
          "execution_count": 9
        }
      ]
    },
    {
      "cell_type": "code",
      "source": [
        "a = [1,2,3,4,5]\n",
        "b = a[:2]\n",
        "c = a[2:]\n",
        "\n",
        "print(b)\n",
        "print(c)"
      ],
      "metadata": {
        "colab": {
          "base_uri": "https://localhost:8080/"
        },
        "id": "ikBLGAbpRypq",
        "outputId": "a36a16b7-f4e5-4603-fcbb-f6ad8fe246a6"
      },
      "execution_count": null,
      "outputs": [
        {
          "output_type": "stream",
          "name": "stdout",
          "text": [
            "[1, 2]\n",
            "[3, 4, 5]\n"
          ]
        }
      ]
    },
    {
      "cell_type": "markdown",
      "source": [
        "## 리스트 연산"
      ],
      "metadata": {
        "id": "RPkdmbmsR8Ei"
      }
    },
    {
      "cell_type": "markdown",
      "source": [
        "### 리스트 더하기 / 반복 / 길이"
      ],
      "metadata": {
        "id": "LePm6QLDSOBo"
      }
    },
    {
      "cell_type": "code",
      "source": [
        "a = [1,2,3]\n",
        "b = [4,5,6]\n",
        "\n",
        "a + b"
      ],
      "metadata": {
        "colab": {
          "base_uri": "https://localhost:8080/"
        },
        "id": "03_UsSdnR-QF",
        "outputId": "552984a0-55a5-442c-b186-00a591a1e30a"
      },
      "execution_count": null,
      "outputs": [
        {
          "output_type": "execute_result",
          "data": {
            "text/plain": [
              "[1, 2, 3, 4, 5, 6]"
            ]
          },
          "metadata": {},
          "execution_count": 13
        }
      ]
    },
    {
      "cell_type": "markdown",
      "source": [
        "+ 는 리스트를 합치는 기능. 문자열에서 \"abc\" + \"de\" = \"abcde\"와 같다"
      ],
      "metadata": {
        "id": "2IwUgF4oSChW"
      }
    },
    {
      "cell_type": "code",
      "source": [
        "a = [1,2,3]\n",
        "a * 3\n"
      ],
      "metadata": {
        "colab": {
          "base_uri": "https://localhost:8080/"
        },
        "id": "Ubtvf7bDSRtV",
        "outputId": "e7678f33-888b-4090-c842-1b69ea5de8ec"
      },
      "execution_count": null,
      "outputs": [
        {
          "output_type": "execute_result",
          "data": {
            "text/plain": [
              "[1, 2, 3, 1, 2, 3, 1, 2, 3]"
            ]
          },
          "metadata": {},
          "execution_count": 14
        }
      ]
    },
    {
      "cell_type": "code",
      "source": [
        "a = [1,2,3,4]\n",
        "len(a)"
      ],
      "metadata": {
        "colab": {
          "base_uri": "https://localhost:8080/"
        },
        "id": "WVGUonmOSagl",
        "outputId": "efe06bbd-b447-4d33-a792-c3b957747f77"
      },
      "execution_count": null,
      "outputs": [
        {
          "output_type": "execute_result",
          "data": {
            "text/plain": [
              "4"
            ]
          },
          "metadata": {},
          "execution_count": 15
        }
      ]
    },
    {
      "cell_type": "markdown",
      "source": [
        "**정수와 문자열은 당연히 서로 더할 수 없다**"
      ],
      "metadata": {
        "id": "_i52MeJ_Sf49"
      }
    },
    {
      "cell_type": "code",
      "source": [
        "a = [1,2,3]\n",
        "# a[2] + \"hi\"\n",
        "\n",
        "str(a[2]) + \"hi\""
      ],
      "metadata": {
        "colab": {
          "base_uri": "https://localhost:8080/",
          "height": 36
        },
        "id": "6mS5bvX5SlUd",
        "outputId": "7f46d0a4-70c7-4ec5-a5d1-a62757a5f27c"
      },
      "execution_count": null,
      "outputs": [
        {
          "output_type": "execute_result",
          "data": {
            "text/plain": [
              "'3hi'"
            ],
            "application/vnd.google.colaboratory.intrinsic+json": {
              "type": "string"
            }
          },
          "metadata": {},
          "execution_count": 16
        }
      ]
    },
    {
      "cell_type": "markdown",
      "source": [
        "## 리스트 수정 / 삭제"
      ],
      "metadata": {
        "id": "cbH3d1-CSxQp"
      }
    },
    {
      "cell_type": "code",
      "source": [
        "a = [1,2,3]\n",
        "a[2] = 4\n",
        "a"
      ],
      "metadata": {
        "colab": {
          "base_uri": "https://localhost:8080/"
        },
        "id": "tO1NClfHSzCZ",
        "outputId": "1cbb8cad-aab9-48f3-8e5c-55d786e9a04b"
      },
      "execution_count": null,
      "outputs": [
        {
          "output_type": "execute_result",
          "data": {
            "text/plain": [
              "[1, 2, 4]"
            ]
          },
          "metadata": {},
          "execution_count": 17
        }
      ]
    },
    {
      "cell_type": "code",
      "source": [
        "a = [1,2,3]\n",
        "del a[1]\n",
        "a"
      ],
      "metadata": {
        "colab": {
          "base_uri": "https://localhost:8080/"
        },
        "id": "9I9f--SdS3yq",
        "outputId": "15927736-bbd3-4ed3-db2a-574923098105"
      },
      "execution_count": null,
      "outputs": [
        {
          "output_type": "execute_result",
          "data": {
            "text/plain": [
              "[1, 3]"
            ]
          },
          "metadata": {},
          "execution_count": 19
        }
      ]
    },
    {
      "cell_type": "markdown",
      "source": [
        "del a[x] 는 x번째 요솟값을 삭제한다.\n",
        "del 객체"
      ],
      "metadata": {
        "id": "qMXFPpueS7tq"
      }
    },
    {
      "cell_type": "code",
      "source": [
        "a = [1,2,3,4,5]\n",
        "del a[2:]\n",
        "a"
      ],
      "metadata": {
        "colab": {
          "base_uri": "https://localhost:8080/"
        },
        "id": "hih9FO5DTBBA",
        "outputId": "027d2918-d6fd-455d-d3d8-8a80d6a6ebc4"
      },
      "execution_count": null,
      "outputs": [
        {
          "output_type": "execute_result",
          "data": {
            "text/plain": [
              "[1, 2]"
            ]
          },
          "metadata": {},
          "execution_count": 20
        }
      ]
    },
    {
      "cell_type": "markdown",
      "source": [
        "## 리스트 관련 함수"
      ],
      "metadata": {
        "id": "mlH8uuaOTEl1"
      }
    },
    {
      "cell_type": "markdown",
      "source": [
        "### 요소 추가 append"
      ],
      "metadata": {
        "id": "c3S5S0IwTGdV"
      }
    },
    {
      "cell_type": "code",
      "source": [
        "a = [1,2,3]\n",
        "a.append(4)\n",
        "a"
      ],
      "metadata": {
        "colab": {
          "base_uri": "https://localhost:8080/"
        },
        "id": "Wm0MTFD_THiO",
        "outputId": "4eb7e9cd-2d42-4487-b151-e0ed9e74e7cd"
      },
      "execution_count": null,
      "outputs": [
        {
          "output_type": "execute_result",
          "data": {
            "text/plain": [
              "[1, 2, 3, 4]"
            ]
          },
          "metadata": {},
          "execution_count": 22
        }
      ]
    },
    {
      "cell_type": "code",
      "source": [
        "a.append([5,6])\n",
        "a"
      ],
      "metadata": {
        "colab": {
          "base_uri": "https://localhost:8080/"
        },
        "id": "snKYcovnTMxr",
        "outputId": "2a2be8ef-c9eb-44de-db16-66ad10356adb"
      },
      "execution_count": null,
      "outputs": [
        {
          "output_type": "execute_result",
          "data": {
            "text/plain": [
              "[1, 2, 3, 4, [5, 6]]"
            ]
          },
          "metadata": {},
          "execution_count": 23
        }
      ]
    },
    {
      "cell_type": "markdown",
      "source": [
        "### 정렬 sort"
      ],
      "metadata": {
        "id": "cla1p6_-TQfG"
      }
    },
    {
      "cell_type": "code",
      "source": [
        "a = [1,4,2,3,6,5]\n",
        "a.sort()\n",
        "a"
      ],
      "metadata": {
        "colab": {
          "base_uri": "https://localhost:8080/"
        },
        "id": "xzhbr0MmTRUW",
        "outputId": "60d11eb8-15c0-4b8b-9164-95e4e1c4c22d"
      },
      "execution_count": null,
      "outputs": [
        {
          "output_type": "execute_result",
          "data": {
            "text/plain": [
              "[1, 2, 3, 4, 5, 6]"
            ]
          },
          "metadata": {},
          "execution_count": 25
        }
      ]
    },
    {
      "cell_type": "code",
      "source": [
        "a = ['b','g','a','e','c']\n",
        "a.sort()\n",
        "a"
      ],
      "metadata": {
        "colab": {
          "base_uri": "https://localhost:8080/"
        },
        "id": "cXEFwsGLTXMN",
        "outputId": "21327822-e105-4e93-fa1b-626283d83979"
      },
      "execution_count": null,
      "outputs": [
        {
          "output_type": "execute_result",
          "data": {
            "text/plain": [
              "['a', 'b', 'c', 'e', 'g']"
            ]
          },
          "metadata": {},
          "execution_count": 27
        }
      ]
    },
    {
      "cell_type": "markdown",
      "source": [
        "### 뒤집기 reverse"
      ],
      "metadata": {
        "id": "6Pql3QV1TdMs"
      }
    },
    {
      "cell_type": "code",
      "source": [
        "a = ['a','c','b']\n",
        "a.reverse()\n",
        "a"
      ],
      "metadata": {
        "colab": {
          "base_uri": "https://localhost:8080/"
        },
        "id": "Vd6brWmgTepq",
        "outputId": "8867f8ba-d0c7-4762-fcb4-0f4b8b72fb76"
      },
      "execution_count": null,
      "outputs": [
        {
          "output_type": "execute_result",
          "data": {
            "text/plain": [
              "['b', 'c', 'a']"
            ]
          },
          "metadata": {},
          "execution_count": 28
        }
      ]
    },
    {
      "cell_type": "markdown",
      "source": [
        "### 위치 index\n",
        "\n",
        "index(x) 리스트에 x 값이 있으면 x의 위치 반환\n",
        "\n",
        "리스트에 존재 하지 않으면 오류 발생"
      ],
      "metadata": {
        "id": "80xq9RLGTier"
      }
    },
    {
      "cell_type": "code",
      "source": [
        "a = [1,2,3]\n",
        "a.index(3)"
      ],
      "metadata": {
        "colab": {
          "base_uri": "https://localhost:8080/"
        },
        "id": "R_1QTmriTjwD",
        "outputId": "b739a7e5-ff98-4ae4-884a-d4c085dcee1f"
      },
      "execution_count": null,
      "outputs": [
        {
          "output_type": "execute_result",
          "data": {
            "text/plain": [
              "2"
            ]
          },
          "metadata": {},
          "execution_count": 29
        }
      ]
    },
    {
      "cell_type": "markdown",
      "source": [
        "### 삽입 insert\n",
        "insert(a,b) a번째에 b 삽입, 0부터 숫자 세는거 기억"
      ],
      "metadata": {
        "id": "ZIK1w6H4TuOk"
      }
    },
    {
      "cell_type": "code",
      "source": [
        "a = [1,2,3]\n",
        "a.insert(0,4)\n",
        "a"
      ],
      "metadata": {
        "colab": {
          "base_uri": "https://localhost:8080/"
        },
        "id": "mz0txV8YTvtR",
        "outputId": "3624e2e2-b439-4adb-a99c-8e0bf2055674"
      },
      "execution_count": null,
      "outputs": [
        {
          "output_type": "execute_result",
          "data": {
            "text/plain": [
              "[4, 1, 2, 3]"
            ]
          },
          "metadata": {},
          "execution_count": 32
        }
      ]
    },
    {
      "cell_type": "code",
      "source": [
        "a.insert(3,5)\n",
        "a"
      ],
      "metadata": {
        "colab": {
          "base_uri": "https://localhost:8080/"
        },
        "id": "sj6YWNk2T4A7",
        "outputId": "40a74ec3-6b70-43bf-9038-da37a219f6c2"
      },
      "execution_count": null,
      "outputs": [
        {
          "output_type": "execute_result",
          "data": {
            "text/plain": [
              "[4, 1, 2, 5, 3]"
            ]
          },
          "metadata": {},
          "execution_count": 33
        }
      ]
    },
    {
      "cell_type": "markdown",
      "source": [
        "### 제거 remove\n",
        "\n",
        "remove(x) 리스트에서 첫 번째로 나오는 x를 삭제한다"
      ],
      "metadata": {
        "id": "Wih-4Dn8UC_L"
      }
    },
    {
      "cell_type": "code",
      "source": [
        "a = [1,2,3,4,2,3,5]\n",
        "a.remove(3)\n",
        "a                                                                                                                                                                                                                                                                                                                                                                         "
      ],
      "metadata": {
        "colab": {
          "base_uri": "https://localhost:8080/"
        },
        "id": "5E5W3U-bUEVg",
        "outputId": "8854bf18-14e2-45c5-e67b-d7c7ac311459"
      },
      "execution_count": null,
      "outputs": [
        {
          "output_type": "execute_result",
          "data": {
            "text/plain": [
              "[1, 2, 4, 2, 3, 5]"
            ]
          },
          "metadata": {},
          "execution_count": 34
        }
      ]
    },
    {
      "cell_type": "markdown",
      "source": [
        "### 요소 끄집어내기 pop\n",
        "맨 마지막 요소를 돌려주고 그 요소는 삭제한다"
      ],
      "metadata": {
        "id": "I8hrfTysaolc"
      }
    },
    {
      "cell_type": "code",
      "source": [
        "a = [1,2,3]\n",
        "a.pop()\n",
        "a"
      ],
      "metadata": {
        "colab": {
          "base_uri": "https://localhost:8080/"
        },
        "id": "y-1pS9x_aqlU",
        "outputId": "678b9e99-da03-4a47-bc7e-d4a400520eef"
      },
      "execution_count": null,
      "outputs": [
        {
          "output_type": "execute_result",
          "data": {
            "text/plain": [
              "[1, 2]"
            ]
          },
          "metadata": {},
          "execution_count": 35
        }
      ]
    },
    {
      "cell_type": "markdown",
      "source": [
        "### 개수 세기 count\n",
        "count(x)는 리스트 안에 x의 개수를 돌려준다"
      ],
      "metadata": {
        "id": "RAnpXdfAeGGM"
      }
    },
    {
      "cell_type": "code",
      "source": [
        "a = [1,2,3,1]\n",
        "a.count(1)"
      ],
      "metadata": {
        "colab": {
          "base_uri": "https://localhost:8080/"
        },
        "id": "63DcyES6eLqw",
        "outputId": "6b03a95d-89b6-445e-d406-c2f2ca2e060f"
      },
      "execution_count": null,
      "outputs": [
        {
          "output_type": "execute_result",
          "data": {
            "text/plain": [
              "2"
            ]
          },
          "metadata": {},
          "execution_count": 36
        }
      ]
    },
    {
      "cell_type": "markdown",
      "source": [
        "### 리스트 확장 extend\n",
        "extend(x) x에는 리스트만 올 수 있다. 원래의 a 리스트에 x리스트를 더하게 된다"
      ],
      "metadata": {
        "id": "pcYL70kieObs"
      }
    },
    {
      "cell_type": "code",
      "source": [
        "a = [1,2,3]\n",
        "a.extend([4,5])\n",
        "a"
      ],
      "metadata": {
        "id": "ql2677dqeTAv",
        "outputId": "fcac6388-4a13-4c25-d195-89068018318b",
        "colab": {
          "base_uri": "https://localhost:8080/"
        }
      },
      "execution_count": 2,
      "outputs": [
        {
          "output_type": "execute_result",
          "data": {
            "text/plain": [
              "[1, 2, 3, 4, 5]"
            ]
          },
          "metadata": {},
          "execution_count": 2
        }
      ]
    },
    {
      "cell_type": "markdown",
      "source": [
        "# 튜플\n",
        "\n",
        "튜플 () / 리스트 []\n",
        "값 바꿀 수 없음"
      ],
      "metadata": {
        "id": "WpyfumocBvfv"
      }
    },
    {
      "cell_type": "markdown",
      "source": [
        "## 요솟값 삭제 / 변경\n",
        "- 삭제 X\n",
        "- 변경 X"
      ],
      "metadata": {
        "id": "GOwTTZffB3Jx"
      }
    },
    {
      "cell_type": "code",
      "source": [
        "t1 = (1,2,'a','b')\n",
        "del t1[0]"
      ],
      "metadata": {
        "colab": {
          "base_uri": "https://localhost:8080/",
          "height": 191
        },
        "id": "bXyTog-iB86w",
        "outputId": "9ac36aeb-6987-424c-82e4-2dfd0a82a7f2"
      },
      "execution_count": 1,
      "outputs": [
        {
          "output_type": "error",
          "ename": "TypeError",
          "evalue": "ignored",
          "traceback": [
            "\u001b[0;31m---------------------------------------------------------------------------\u001b[0m",
            "\u001b[0;31mTypeError\u001b[0m                                 Traceback (most recent call last)",
            "\u001b[0;32m<ipython-input-1-e60ebcde2836>\u001b[0m in \u001b[0;36m<module>\u001b[0;34m()\u001b[0m\n\u001b[1;32m      1\u001b[0m \u001b[0mt1\u001b[0m \u001b[0;34m=\u001b[0m \u001b[0;34m(\u001b[0m\u001b[0;36m1\u001b[0m\u001b[0;34m,\u001b[0m\u001b[0;36m2\u001b[0m\u001b[0;34m,\u001b[0m\u001b[0;34m'a'\u001b[0m\u001b[0;34m,\u001b[0m\u001b[0;34m'b'\u001b[0m\u001b[0;34m)\u001b[0m\u001b[0;34m\u001b[0m\u001b[0;34m\u001b[0m\u001b[0m\n\u001b[0;32m----> 2\u001b[0;31m \u001b[0;32mdel\u001b[0m \u001b[0mt1\u001b[0m\u001b[0;34m[\u001b[0m\u001b[0;36m0\u001b[0m\u001b[0;34m]\u001b[0m\u001b[0;34m\u001b[0m\u001b[0;34m\u001b[0m\u001b[0m\n\u001b[0m",
            "\u001b[0;31mTypeError\u001b[0m: 'tuple' object doesn't support item deletion"
          ]
        }
      ]
    },
    {
      "cell_type": "code",
      "source": [
        "t1 = (1,2,'a','b')\n",
        "t1[0] = 'c'"
      ],
      "metadata": {
        "id": "fEiytNA1CKNa"
      },
      "execution_count": null,
      "outputs": []
    },
    {
      "cell_type": "markdown",
      "source": [
        "## 다루기"
      ],
      "metadata": {
        "id": "I0W8J_haCOS_"
      }
    },
    {
      "cell_type": "markdown",
      "source": [
        "### 인덱싱"
      ],
      "metadata": {
        "id": "xWl1WqDDCRzp"
      }
    },
    {
      "cell_type": "code",
      "source": [
        "t1 = (1,2,'a','b')\n",
        "t1[0]"
      ],
      "metadata": {
        "colab": {
          "base_uri": "https://localhost:8080/"
        },
        "id": "2wBpl_NOCTBC",
        "outputId": "6c939e6c-fb3e-4e0c-b4ae-0bc1d57c01d9"
      },
      "execution_count": 3,
      "outputs": [
        {
          "output_type": "execute_result",
          "data": {
            "text/plain": [
              "1"
            ]
          },
          "metadata": {},
          "execution_count": 3
        }
      ]
    },
    {
      "cell_type": "markdown",
      "source": [
        "### 슬라이싱"
      ],
      "metadata": {
        "id": "gSXYrk6aCXAF"
      }
    },
    {
      "cell_type": "code",
      "source": [
        "t1 = (1,2,'a','b')\n",
        "t1[1:]"
      ],
      "metadata": {
        "colab": {
          "base_uri": "https://localhost:8080/"
        },
        "id": "yF6PhvGiCX7L",
        "outputId": "d0ee108e-202f-455b-9e84-c7998eb6e4ce"
      },
      "execution_count": 4,
      "outputs": [
        {
          "output_type": "execute_result",
          "data": {
            "text/plain": [
              "(2, 'a', 'b')"
            ]
          },
          "metadata": {},
          "execution_count": 4
        }
      ]
    },
    {
      "cell_type": "markdown",
      "source": [
        "### 더하기"
      ],
      "metadata": {
        "id": "Q4A0xfBsCa2w"
      }
    },
    {
      "cell_type": "code",
      "source": [
        "t1 = (1,2,'a','b')\n",
        "t2 = (3,4)\n",
        "\n",
        "t1 + t2"
      ],
      "metadata": {
        "colab": {
          "base_uri": "https://localhost:8080/"
        },
        "id": "lSpxyQ6WCbbB",
        "outputId": "40d30ddc-20c3-4290-98d6-c070934338f8"
      },
      "execution_count": 5,
      "outputs": [
        {
          "output_type": "execute_result",
          "data": {
            "text/plain": [
              "(1, 2, 'a', 'b', 3, 4)"
            ]
          },
          "metadata": {},
          "execution_count": 5
        }
      ]
    },
    {
      "cell_type": "markdown",
      "source": [
        "### 곱하기"
      ],
      "metadata": {
        "id": "kawFpkA3CfMt"
      }
    },
    {
      "cell_type": "code",
      "source": [
        "t2 = (3,4)\n",
        "t2 * 3"
      ],
      "metadata": {
        "colab": {
          "base_uri": "https://localhost:8080/"
        },
        "id": "4nzJWtiaCfvp",
        "outputId": "1fd555b5-77bf-41ac-fd5e-4471494d7e28"
      },
      "execution_count": 6,
      "outputs": [
        {
          "output_type": "execute_result",
          "data": {
            "text/plain": [
              "(3, 4, 3, 4, 3, 4)"
            ]
          },
          "metadata": {},
          "execution_count": 6
        }
      ]
    },
    {
      "cell_type": "markdown",
      "source": [
        "### 길이 구하기"
      ],
      "metadata": {
        "id": "nlU6WXbkCh44"
      }
    },
    {
      "cell_type": "code",
      "source": [
        "t1 = (1,2,'a','b')\n",
        "len(t1)"
      ],
      "metadata": {
        "colab": {
          "base_uri": "https://localhost:8080/"
        },
        "id": "cslyl6v8Cilk",
        "outputId": "dd084911-18d8-4026-8904-51e7975ee551"
      },
      "execution_count": 7,
      "outputs": [
        {
          "output_type": "execute_result",
          "data": {
            "text/plain": [
              "4"
            ]
          },
          "metadata": {},
          "execution_count": 7
        }
      ]
    },
    {
      "cell_type": "markdown",
      "source": [
        "# 딕셔너리\n",
        "Key / Value\n",
        "\n",
        "{Key1:Value1, Key2:Value2, Key3:Value3, ...}\n",
        "\n",
        "\n",
        "Key는 변하지 않는 값을 사용, value는 변하는 값, 변하지 않는값 모두 가능"
      ],
      "metadata": {
        "id": "BP5GAg0CCnNt"
      }
    },
    {
      "cell_type": "code",
      "source": [
        "dic = {'name':'kitty', 'phone':'0123456789', 'birth':'1118'}"
      ],
      "metadata": {
        "id": "KqJ8z0uBCwxi"
      },
      "execution_count": 8,
      "outputs": []
    },
    {
      "cell_type": "markdown",
      "source": [
        "## 쌍 추가, 삭제\n",
        "- {1:'a'} 딕셔너리에 a[2] = 'b' 하면 a에 key와 value 가 각각 2와 'b'인 2:'b' 라는 딕셔너리 쌍이 추가된다."
      ],
      "metadata": {
        "id": "8t55yyvLDItT"
      }
    },
    {
      "cell_type": "code",
      "source": [
        "a = {1: 'a'}\n",
        "a[2] = 'b'\n",
        "a"
      ],
      "metadata": {
        "colab": {
          "base_uri": "https://localhost:8080/"
        },
        "id": "8U-IijqwDKN3",
        "outputId": "a837beb7-4967-409f-cd1a-b11f6a67d05a"
      },
      "execution_count": 9,
      "outputs": [
        {
          "output_type": "execute_result",
          "data": {
            "text/plain": [
              "{1: 'a', 2: 'b'}"
            ]
          },
          "metadata": {},
          "execution_count": 9
        }
      ]
    },
    {
      "cell_type": "code",
      "source": [
        "a['name'] = 'kitty'\n",
        "a"
      ],
      "metadata": {
        "colab": {
          "base_uri": "https://localhost:8080/"
        },
        "id": "_efPvkmpDN-b",
        "outputId": "b736ec24-67b6-48d9-f789-983585acdd25"
      },
      "execution_count": 10,
      "outputs": [
        {
          "output_type": "execute_result",
          "data": {
            "text/plain": [
              "{1: 'a', 2: 'b', 'name': 'kitty'}"
            ]
          },
          "metadata": {},
          "execution_count": 10
        }
      ]
    },
    {
      "cell_type": "code",
      "source": [
        "a[3] = [1,2,3]\n",
        "a"
      ],
      "metadata": {
        "colab": {
          "base_uri": "https://localhost:8080/"
        },
        "id": "N2tBaIQ7DSlS",
        "outputId": "b8affe9e-e0a2-426c-b149-a2be4593ec5f"
      },
      "execution_count": 11,
      "outputs": [
        {
          "output_type": "execute_result",
          "data": {
            "text/plain": [
              "{1: 'a', 2: 'b', 3: [1, 2, 3], 'name': 'kitty'}"
            ]
          },
          "metadata": {},
          "execution_count": 11
        }
      ]
    },
    {
      "cell_type": "markdown",
      "source": [
        "- del[key] 입력하면 key에 해당하는 키값과 밸류 쌍이 삭제된다"
      ],
      "metadata": {
        "id": "4njyxe6UDmkE"
      }
    },
    {
      "cell_type": "code",
      "source": [
        "del a[1]\n",
        "a"
      ],
      "metadata": {
        "colab": {
          "base_uri": "https://localhost:8080/"
        },
        "id": "YhmjRQmoDkk3",
        "outputId": "93e17183-e193-45b5-f26f-13ae7526e6f0"
      },
      "execution_count": 12,
      "outputs": [
        {
          "output_type": "execute_result",
          "data": {
            "text/plain": [
              "{2: 'b', 3: [1, 2, 3], 'name': 'kitty'}"
            ]
          },
          "metadata": {},
          "execution_count": 12
        }
      ]
    },
    {
      "cell_type": "markdown",
      "source": [
        "## 사용\n",
        "- 어떤 키의 값을 얻기 위해서는 딕셔너리변수이름[key]를 사용한다"
      ],
      "metadata": {
        "id": "4m7Dh58hDsH6"
      }
    },
    {
      "cell_type": "code",
      "source": [
        "grade = {'pey': 10, 'julliet': 99}\n",
        "grade['pey']"
      ],
      "metadata": {
        "colab": {
          "base_uri": "https://localhost:8080/"
        },
        "id": "ewSLXSabDtHM",
        "outputId": "6c6e258d-b591-4b4e-97b1-bcd2c6d44ee1"
      },
      "execution_count": 14,
      "outputs": [
        {
          "output_type": "execute_result",
          "data": {
            "text/plain": [
              "10"
            ]
          },
          "metadata": {},
          "execution_count": 14
        }
      ]
    },
    {
      "cell_type": "code",
      "source": [
        "a = {1:'a', 2:'b'}\n",
        "print(a[1])\n",
        "print(a[2])"
      ],
      "metadata": {
        "colab": {
          "base_uri": "https://localhost:8080/"
        },
        "id": "CiglUEQID54Q",
        "outputId": "d2e86bc0-af07-4215-84a8-b95f4050b6d5"
      },
      "execution_count": 16,
      "outputs": [
        {
          "output_type": "stream",
          "name": "stdout",
          "text": [
            "a\n",
            "b\n"
          ]
        }
      ]
    },
    {
      "cell_type": "code",
      "source": [
        "a = {'a':1, 'b':2}\n",
        "print(a['a'])\n",
        "print(a['b'])"
      ],
      "metadata": {
        "colab": {
          "base_uri": "https://localhost:8080/"
        },
        "id": "teOBKMtvEBKj",
        "outputId": "42fe5572-e34a-4212-98b6-3a112e7d8a9b"
      },
      "execution_count": 17,
      "outputs": [
        {
          "output_type": "stream",
          "name": "stdout",
          "text": [
            "1\n",
            "2\n"
          ]
        }
      ]
    },
    {
      "cell_type": "code",
      "source": [
        "dic = {'name':'pey', 'phone':'0119993323', 'birth': '1118'}\n",
        "print(dic['name'])\n",
        "print(dic['phone'])\n",
        "print(dic['birth'])"
      ],
      "metadata": {
        "colab": {
          "base_uri": "https://localhost:8080/"
        },
        "id": "vCy5iJUAEIbg",
        "outputId": "1b458b4d-5e20-4e99-e3f5-0fd499b14291"
      },
      "execution_count": 19,
      "outputs": [
        {
          "output_type": "stream",
          "name": "stdout",
          "text": [
            "pey\n",
            "0119993323\n",
            "1118\n"
          ]
        }
      ]
    },
    {
      "cell_type": "markdown",
      "source": [
        "## 주의사항\n",
        "- key는 고유값, 중복되는 key값 설정하면 하나 제외한 나머지 것들 모두 무시된다.\n",
        "- 리스트 X 튜플 O"
      ],
      "metadata": {
        "id": "wc0-M4ZzEU7O"
      }
    },
    {
      "cell_type": "code",
      "source": [
        "a = {1:'a', 1:'b'}\n",
        "a"
      ],
      "metadata": {
        "colab": {
          "base_uri": "https://localhost:8080/"
        },
        "id": "k22N9hqVEbaD",
        "outputId": "a00e1517-b0dd-44d7-9cd4-3d9f762ca7d9"
      },
      "execution_count": 20,
      "outputs": [
        {
          "output_type": "execute_result",
          "data": {
            "text/plain": [
              "{1: 'b'}"
            ]
          },
          "metadata": {},
          "execution_count": 20
        }
      ]
    },
    {
      "cell_type": "markdown",
      "source": [
        "## 관련 함수"
      ],
      "metadata": {
        "id": "QSz2RsdxEmVW"
      }
    },
    {
      "cell_type": "markdown",
      "source": [
        "### 리스트 만들기 keys"
      ],
      "metadata": {
        "id": "Y-bI0BFqEnjT"
      }
    },
    {
      "cell_type": "code",
      "source": [
        "a = {'name': 'pey', 'phone': '0119993323', 'birth': '1118'}\n",
        "a.keys()"
      ],
      "metadata": {
        "colab": {
          "base_uri": "https://localhost:8080/"
        },
        "id": "FACrflKkEoq4",
        "outputId": "c442cbfa-2d8d-4fd8-fa46-069fa4bf8f5e"
      },
      "execution_count": 21,
      "outputs": [
        {
          "output_type": "execute_result",
          "data": {
            "text/plain": [
              "dict_keys(['name', 'phone', 'birth'])"
            ]
          },
          "metadata": {},
          "execution_count": 21
        }
      ]
    },
    {
      "cell_type": "code",
      "source": [
        "for k in a.keys():\n",
        "    print(k)"
      ],
      "metadata": {
        "colab": {
          "base_uri": "https://localhost:8080/"
        },
        "id": "83qSAE2iEyYJ",
        "outputId": "a81c84ab-8506-4b65-b5eb-1a5240aa4d67"
      },
      "execution_count": 22,
      "outputs": [
        {
          "output_type": "stream",
          "name": "stdout",
          "text": [
            "name\n",
            "phone\n",
            "birth\n"
          ]
        }
      ]
    },
    {
      "cell_type": "code",
      "source": [
        "list(a.keys()) # 리스트 변환"
      ],
      "metadata": {
        "colab": {
          "base_uri": "https://localhost:8080/"
        },
        "id": "im0G_Yz-E3Q4",
        "outputId": "29d06102-35a6-4f2d-f30f-2b5bd2d2547c"
      },
      "execution_count": 23,
      "outputs": [
        {
          "output_type": "execute_result",
          "data": {
            "text/plain": [
              "['name', 'phone', 'birth']"
            ]
          },
          "metadata": {},
          "execution_count": 23
        }
      ]
    },
    {
      "cell_type": "markdown",
      "source": [
        "### vlaue 리스트 만들기 values"
      ],
      "metadata": {
        "id": "f2yevzFaE7Aj"
      }
    },
    {
      "cell_type": "code",
      "source": [
        "a.values()"
      ],
      "metadata": {
        "colab": {
          "base_uri": "https://localhost:8080/"
        },
        "id": "ySfRQV5bE8xN",
        "outputId": "0ebc76d5-5986-47c9-dcfb-f5c72cd3954d"
      },
      "execution_count": 24,
      "outputs": [
        {
          "output_type": "execute_result",
          "data": {
            "text/plain": [
              "dict_values(['pey', '0119993323', '1118'])"
            ]
          },
          "metadata": {},
          "execution_count": 24
        }
      ]
    },
    {
      "cell_type": "markdown",
      "source": [
        "### 쌍 얻기 items"
      ],
      "metadata": {
        "id": "MmHWrkKpE-P9"
      }
    },
    {
      "cell_type": "code",
      "source": [
        "a.items()"
      ],
      "metadata": {
        "colab": {
          "base_uri": "https://localhost:8080/"
        },
        "id": "YCtSnKKkE_0V",
        "outputId": "fb02152e-a90b-46cd-bc2a-cbb946528a66"
      },
      "execution_count": 26,
      "outputs": [
        {
          "output_type": "execute_result",
          "data": {
            "text/plain": [
              "dict_items([('name', 'pey'), ('phone', '0119993323'), ('birth', '1118')])"
            ]
          },
          "metadata": {},
          "execution_count": 26
        }
      ]
    },
    {
      "cell_type": "markdown",
      "source": [
        "### 쌍 모두 지우기 clear"
      ],
      "metadata": {
        "id": "BSBoaJvfFCbt"
      }
    },
    {
      "cell_type": "code",
      "source": [
        "a.clear()\n",
        "a"
      ],
      "metadata": {
        "colab": {
          "base_uri": "https://localhost:8080/"
        },
        "id": "u5dYdluyFDZq",
        "outputId": "d0132db3-6d31-4175-9cb1-ef5336302344"
      },
      "execution_count": 28,
      "outputs": [
        {
          "output_type": "execute_result",
          "data": {
            "text/plain": [
              "{}"
            ]
          },
          "metadata": {},
          "execution_count": 28
        }
      ]
    },
    {
      "cell_type": "markdown",
      "source": [
        "### 키로 밸류 얻기 get"
      ],
      "metadata": {
        "id": "6NltvurVFFtU"
      }
    },
    {
      "cell_type": "code",
      "source": [
        "a = {'name':'pey', 'phone':'0119993323', 'birth': '1118'}\n",
        "a.get('name')"
      ],
      "metadata": {
        "colab": {
          "base_uri": "https://localhost:8080/",
          "height": 36
        },
        "id": "r1cpj1peFHFr",
        "outputId": "f31e63bd-b052-4e01-8f9d-5942ff5d09ed"
      },
      "execution_count": 29,
      "outputs": [
        {
          "output_type": "execute_result",
          "data": {
            "text/plain": [
              "'pey'"
            ],
            "application/vnd.google.colaboratory.intrinsic+json": {
              "type": "string"
            }
          },
          "metadata": {},
          "execution_count": 29
        }
      ]
    },
    {
      "cell_type": "markdown",
      "source": [
        "딕셔너리 안에 찾으려는 키값이 없을 경우 미리 정해둔 디폴트 값 대신 가져오게 하고 싶을때는 **get(x,'디폴트값')**"
      ],
      "metadata": {
        "id": "Ex17ozmBFQ4i"
      }
    },
    {
      "cell_type": "code",
      "source": [
        "a.get('foo','bar')"
      ],
      "metadata": {
        "colab": {
          "base_uri": "https://localhost:8080/",
          "height": 36
        },
        "id": "qbTnu0H6FNkg",
        "outputId": "c7198f43-dff3-4aab-c16e-e90cc200fc1a"
      },
      "execution_count": 30,
      "outputs": [
        {
          "output_type": "execute_result",
          "data": {
            "text/plain": [
              "'bar'"
            ],
            "application/vnd.google.colaboratory.intrinsic+json": {
              "type": "string"
            }
          },
          "metadata": {},
          "execution_count": 30
        }
      ]
    },
    {
      "cell_type": "markdown",
      "source": [
        "### 키가 딕셔너리 안에 있는지 조사 in"
      ],
      "metadata": {
        "id": "R9sJFKwiFXNf"
      }
    },
    {
      "cell_type": "code",
      "source": [
        "a = {'name':'pey', 'phone':'0119993323', 'birth': '1118'}\n",
        "'name' in a"
      ],
      "metadata": {
        "colab": {
          "base_uri": "https://localhost:8080/"
        },
        "id": "gJ9nsMR8FY9N",
        "outputId": "fbb60c61-3302-49c8-cdd2-8adfed072504"
      },
      "execution_count": 31,
      "outputs": [
        {
          "output_type": "execute_result",
          "data": {
            "text/plain": [
              "True"
            ]
          },
          "metadata": {},
          "execution_count": 31
        }
      ]
    }
  ]
}