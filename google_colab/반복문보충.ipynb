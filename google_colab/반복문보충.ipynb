{
  "nbformat": 4,
  "nbformat_minor": 0,
  "metadata": {
    "colab": {
      "name": "반복문보충.ipynb",
      "provenance": [],
      "authorship_tag": "ABX9TyPbn+v5EZmZ57o9p1tELVbS",
      "include_colab_link": true
    },
    "kernelspec": {
      "name": "python3",
      "display_name": "Python 3"
    },
    "language_info": {
      "name": "python"
    }
  },
  "cells": [
    {
      "cell_type": "markdown",
      "metadata": {
        "id": "view-in-github",
        "colab_type": "text"
      },
      "source": [
        "<a href=\"https://colab.research.google.com/github/KONA1005/google_drive/blob/main/google_colab/%EB%B0%98%EB%B3%B5%EB%AC%B8%EB%B3%B4%EC%B6%A9.ipynb\" target=\"_parent\"><img src=\"https://colab.research.google.com/assets/colab-badge.svg\" alt=\"Open In Colab\"/></a>"
      ]
    },
    {
      "cell_type": "markdown",
      "source": [
        "# 반복문\n",
        "- 패턴 잡기가 중요"
      ],
      "metadata": {
        "id": "Q16YhLWDVA9S"
      }
    },
    {
      "cell_type": "code",
      "execution_count": null,
      "metadata": {
        "colab": {
          "base_uri": "https://localhost:8080/"
        },
        "id": "cNJM9WAkU-8J",
        "outputId": "b6fda3b0-07ba-478a-ff12-fc62d78a91a2"
      },
      "outputs": [
        {
          "output_type": "stream",
          "name": "stdout",
          "text": [
            "2 4 6 8 10 12 14 16 18 3 6 9 12 15 18 21 24 27 4 8 12 16 20 24 28 32 36 5 10 15 20 25 30 35 40 45 6 12 18 24 30 36 42 48 54 7 14 21 28 35 42 49 56 63 8 16 24 32 40 48 56 64 72 9 18 27 36 45 54 63 72 81 "
          ]
        }
      ],
      "source": [
        "for i in range(2, 10):\n",
        "    for j in range(1, 10):\n",
        "      print(i * j, end =\" \")"
      ]
    },
    {
      "cell_type": "markdown",
      "source": [
        "2 단"
      ],
      "metadata": {
        "id": "NMaTDwFkXqIA"
      }
    },
    {
      "cell_type": "code",
      "source": [
        "print(\"2 x 1 = 2\")\n",
        "print(\"2 x 2 = 4\")\n",
        "print(\"2 x 3 = 6\")"
      ],
      "metadata": {
        "id": "iCVkiMn5Xq54"
      },
      "execution_count": null,
      "outputs": []
    },
    {
      "cell_type": "code",
      "source": [
        "num = 1\n",
        "\n",
        "\n",
        "print(\"2 x \", num, \"=\", 2 * num)\n",
        "print(\"2 x \", num, \"=\", 2 * 2)\n",
        "print(\"2 x \", num, \"=\", 2 * 3)"
      ],
      "metadata": {
        "colab": {
          "base_uri": "https://localhost:8080/"
        },
        "id": "FQl-jNzGX0ot",
        "outputId": "4715d3d1-240f-4929-a57f-12939f12e800"
      },
      "execution_count": null,
      "outputs": [
        {
          "output_type": "stream",
          "name": "stdout",
          "text": [
            "2 x  1 = 2\n",
            "2 x  1 = 4\n",
            "2 x  1 = 6\n"
          ]
        }
      ]
    },
    {
      "cell_type": "code",
      "source": [
        "for num in range(1,10):\n",
        "  print(\"num = \", num)\n",
        "  print(\"2 x \", num , \"=\", 2 * num)\n",
        "\n",
        "  # 문자열 포맷팅\n",
        "  print(f'num = {num}')\n",
        "  print(f'2 x {num} = {2 * num}\\n')"
      ],
      "metadata": {
        "colab": {
          "base_uri": "https://localhost:8080/"
        },
        "id": "9gqEsbiOYt2g",
        "outputId": "eff7e02c-f4a8-4857-da0c-dcdf5d507924"
      },
      "execution_count": null,
      "outputs": [
        {
          "output_type": "stream",
          "name": "stdout",
          "text": [
            "num =  1\n",
            "2 x  1 = 2\n",
            "num = 1\n",
            "2 x 1 = 2\n",
            "\n",
            "num =  2\n",
            "2 x  2 = 4\n",
            "num = 2\n",
            "2 x 2 = 4\n",
            "\n",
            "num =  3\n",
            "2 x  3 = 6\n",
            "num = 3\n",
            "2 x 3 = 6\n",
            "\n",
            "num =  4\n",
            "2 x  4 = 8\n",
            "num = 4\n",
            "2 x 4 = 8\n",
            "\n",
            "num =  5\n",
            "2 x  5 = 10\n",
            "num = 5\n",
            "2 x 5 = 10\n",
            "\n",
            "num =  6\n",
            "2 x  6 = 12\n",
            "num = 6\n",
            "2 x 6 = 12\n",
            "\n",
            "num =  7\n",
            "2 x  7 = 14\n",
            "num = 7\n",
            "2 x 7 = 14\n",
            "\n",
            "num =  8\n",
            "2 x  8 = 16\n",
            "num = 8\n",
            "2 x 8 = 16\n",
            "\n",
            "num =  9\n",
            "2 x  9 = 18\n",
            "num = 9\n",
            "2 x 9 = 18\n",
            "\n"
          ]
        }
      ]
    },
    {
      "cell_type": "code",
      "source": [
        "for num1 in range(2,10):\n",
        "  print(f'num1 = {num1}') # 고정이됨. 아래 for-loop가 다 돌 때까지\n",
        "  \n",
        "  for num2 in range(1,10): \n",
        "    # 문자열 포맷팅\n",
        "    print(f'num = {num2}')\n",
        "    print(f'{num1} x {num2} = {num1 * num2}\\n')"
      ],
      "metadata": {
        "colab": {
          "base_uri": "https://localhost:8080/"
        },
        "id": "K1-n46xMZgaZ",
        "outputId": "0bc543f5-614c-411e-a07c-971e7cddfbca"
      },
      "execution_count": null,
      "outputs": [
        {
          "output_type": "stream",
          "name": "stdout",
          "text": [
            "num1 = 2\n",
            "num = 1\n",
            "2 x 1 = 2\n",
            "\n",
            "num = 2\n",
            "2 x 2 = 4\n",
            "\n",
            "num = 3\n",
            "2 x 3 = 6\n",
            "\n",
            "num = 4\n",
            "2 x 4 = 8\n",
            "\n",
            "num = 5\n",
            "2 x 5 = 10\n",
            "\n",
            "num = 6\n",
            "2 x 6 = 12\n",
            "\n",
            "num = 7\n",
            "2 x 7 = 14\n",
            "\n",
            "num = 8\n",
            "2 x 8 = 16\n",
            "\n",
            "num = 9\n",
            "2 x 9 = 18\n",
            "\n",
            "num1 = 3\n",
            "num = 1\n",
            "3 x 1 = 3\n",
            "\n",
            "num = 2\n",
            "3 x 2 = 6\n",
            "\n",
            "num = 3\n",
            "3 x 3 = 9\n",
            "\n",
            "num = 4\n",
            "3 x 4 = 12\n",
            "\n",
            "num = 5\n",
            "3 x 5 = 15\n",
            "\n",
            "num = 6\n",
            "3 x 6 = 18\n",
            "\n",
            "num = 7\n",
            "3 x 7 = 21\n",
            "\n",
            "num = 8\n",
            "3 x 8 = 24\n",
            "\n",
            "num = 9\n",
            "3 x 9 = 27\n",
            "\n",
            "num1 = 4\n",
            "num = 1\n",
            "4 x 1 = 4\n",
            "\n",
            "num = 2\n",
            "4 x 2 = 8\n",
            "\n",
            "num = 3\n",
            "4 x 3 = 12\n",
            "\n",
            "num = 4\n",
            "4 x 4 = 16\n",
            "\n",
            "num = 5\n",
            "4 x 5 = 20\n",
            "\n",
            "num = 6\n",
            "4 x 6 = 24\n",
            "\n",
            "num = 7\n",
            "4 x 7 = 28\n",
            "\n",
            "num = 8\n",
            "4 x 8 = 32\n",
            "\n",
            "num = 9\n",
            "4 x 9 = 36\n",
            "\n",
            "num1 = 5\n",
            "num = 1\n",
            "5 x 1 = 5\n",
            "\n",
            "num = 2\n",
            "5 x 2 = 10\n",
            "\n",
            "num = 3\n",
            "5 x 3 = 15\n",
            "\n",
            "num = 4\n",
            "5 x 4 = 20\n",
            "\n",
            "num = 5\n",
            "5 x 5 = 25\n",
            "\n",
            "num = 6\n",
            "5 x 6 = 30\n",
            "\n",
            "num = 7\n",
            "5 x 7 = 35\n",
            "\n",
            "num = 8\n",
            "5 x 8 = 40\n",
            "\n",
            "num = 9\n",
            "5 x 9 = 45\n",
            "\n",
            "num1 = 6\n",
            "num = 1\n",
            "6 x 1 = 6\n",
            "\n",
            "num = 2\n",
            "6 x 2 = 12\n",
            "\n",
            "num = 3\n",
            "6 x 3 = 18\n",
            "\n",
            "num = 4\n",
            "6 x 4 = 24\n",
            "\n",
            "num = 5\n",
            "6 x 5 = 30\n",
            "\n",
            "num = 6\n",
            "6 x 6 = 36\n",
            "\n",
            "num = 7\n",
            "6 x 7 = 42\n",
            "\n",
            "num = 8\n",
            "6 x 8 = 48\n",
            "\n",
            "num = 9\n",
            "6 x 9 = 54\n",
            "\n",
            "num1 = 7\n",
            "num = 1\n",
            "7 x 1 = 7\n",
            "\n",
            "num = 2\n",
            "7 x 2 = 14\n",
            "\n",
            "num = 3\n",
            "7 x 3 = 21\n",
            "\n",
            "num = 4\n",
            "7 x 4 = 28\n",
            "\n",
            "num = 5\n",
            "7 x 5 = 35\n",
            "\n",
            "num = 6\n",
            "7 x 6 = 42\n",
            "\n",
            "num = 7\n",
            "7 x 7 = 49\n",
            "\n",
            "num = 8\n",
            "7 x 8 = 56\n",
            "\n",
            "num = 9\n",
            "7 x 9 = 63\n",
            "\n",
            "num1 = 8\n",
            "num = 1\n",
            "8 x 1 = 8\n",
            "\n",
            "num = 2\n",
            "8 x 2 = 16\n",
            "\n",
            "num = 3\n",
            "8 x 3 = 24\n",
            "\n",
            "num = 4\n",
            "8 x 4 = 32\n",
            "\n",
            "num = 5\n",
            "8 x 5 = 40\n",
            "\n",
            "num = 6\n",
            "8 x 6 = 48\n",
            "\n",
            "num = 7\n",
            "8 x 7 = 56\n",
            "\n",
            "num = 8\n",
            "8 x 8 = 64\n",
            "\n",
            "num = 9\n",
            "8 x 9 = 72\n",
            "\n",
            "num1 = 9\n",
            "num = 1\n",
            "9 x 1 = 9\n",
            "\n",
            "num = 2\n",
            "9 x 2 = 18\n",
            "\n",
            "num = 3\n",
            "9 x 3 = 27\n",
            "\n",
            "num = 4\n",
            "9 x 4 = 36\n",
            "\n",
            "num = 5\n",
            "9 x 5 = 45\n",
            "\n",
            "num = 6\n",
            "9 x 6 = 54\n",
            "\n",
            "num = 7\n",
            "9 x 7 = 63\n",
            "\n",
            "num = 8\n",
            "9 x 8 = 72\n",
            "\n",
            "num = 9\n",
            "9 x 9 = 81\n",
            "\n"
          ]
        }
      ]
    }
  ]
}