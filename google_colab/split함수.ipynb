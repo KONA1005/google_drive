{
  "nbformat": 4,
  "nbformat_minor": 0,
  "metadata": {
    "colab": {
      "name": "split함수.ipynb",
      "provenance": [],
      "collapsed_sections": [],
      "authorship_tag": "ABX9TyPSYdQDXIHO8tJu1Ds/eKVn",
      "include_colab_link": true
    },
    "kernelspec": {
      "name": "python3",
      "display_name": "Python 3"
    },
    "language_info": {
      "name": "python"
    }
  },
  "cells": [
    {
      "cell_type": "markdown",
      "metadata": {
        "id": "view-in-github",
        "colab_type": "text"
      },
      "source": [
        "<a href=\"https://colab.research.google.com/github/KONA1005/google_drive/blob/main/google_colab/split%ED%95%A8%EC%88%98.ipynb\" target=\"_parent\"><img src=\"https://colab.research.google.com/assets/colab-badge.svg\" alt=\"Open In Colab\"/></a>"
      ]
    },
    {
      "cell_type": "code",
      "execution_count": 1,
      "metadata": {
        "colab": {
          "base_uri": "https://localhost:8080/"
        },
        "id": "60ug1MnSAl-5",
        "outputId": "8d821edf-caf0-431a-f7e6-e6a4226107bf"
      },
      "outputs": [
        {
          "output_type": "stream",
          "name": "stdout",
          "text": [
            "s       :a b c d e f g\n"
          ]
        }
      ],
      "source": [
        "s = \"a b c d e f g\"\n",
        "print(f's       :{s}')"
      ]
    },
    {
      "cell_type": "code",
      "source": [
        "r = s.split()\n",
        "print(f'split() : {r}')"
      ],
      "metadata": {
        "colab": {
          "base_uri": "https://localhost:8080/"
        },
        "id": "4Inz1hWPAyGi",
        "outputId": "31813633-bf3b-4b56-f86e-24699330fdec"
      },
      "execution_count": 2,
      "outputs": [
        {
          "output_type": "stream",
          "name": "stdout",
          "text": [
            "split() : ['a', 'b', 'c', 'd', 'e', 'f', 'g']\n"
          ]
        }
      ]
    },
    {
      "cell_type": "markdown",
      "source": [
        "문자열.split()을 사용하게 되면 띄어쓰기, 엔터를 구분하여 문자열을 나눈다.\n",
        "maxsplit 지정 안해줬기 때문에 나눌 수 있을때 까지 나누게 된다"
      ],
      "metadata": {
        "id": "B5X4NDYzJ-Nh"
      }
    },
    {
      "cell_type": "code",
      "source": [
        "sp = \"aa.bb.cc.dd.ee.ff.gg\"\n",
        "print(f's           : {s}')"
      ],
      "metadata": {
        "colab": {
          "base_uri": "https://localhost:8080/"
        },
        "id": "D6vn0csoKHuU",
        "outputId": "54e82bc8-86fe-48ee-cf31-d65941be2302"
      },
      "execution_count": 3,
      "outputs": [
        {
          "output_type": "stream",
          "name": "stdout",
          "text": [
            "s           : a b c d e f g\n"
          ]
        }
      ]
    },
    {
      "cell_type": "code",
      "source": [
        "r0 = sp.split()\n",
        "r1 = sp.split('.')\n",
        "r2 = sp.split(sep='.')\n",
        "\n",
        "print(r0)\n",
        "print(r1)\n",
        "print(r2)"
      ],
      "metadata": {
        "colab": {
          "base_uri": "https://localhost:8080/"
        },
        "id": "uP-sIZe0KWu6",
        "outputId": "3a1de037-55b5-4016-d5ee-259ffde262c5"
      },
      "execution_count": 6,
      "outputs": [
        {
          "output_type": "stream",
          "name": "stdout",
          "text": [
            "['aa.bb.cc.dd.ee.ff.gg']\n",
            "['aa', 'bb', 'cc', 'dd', 'ee', 'ff', 'gg']\n",
            "['aa', 'bb', 'cc', 'dd', 'ee', 'ff', 'gg']\n"
          ]
        }
      ]
    },
    {
      "cell_type": "code",
      "source": [
        "string = \"apple banana  grape  lemon\"\n",
        "print(string.split())"
      ],
      "metadata": {
        "colab": {
          "base_uri": "https://localhost:8080/"
        },
        "id": "z5QhTLQuKrvk",
        "outputId": "64bf838a-01bc-4fa9-da46-8b859a5af604"
      },
      "execution_count": 7,
      "outputs": [
        {
          "output_type": "stream",
          "name": "stdout",
          "text": [
            "['apple', 'banana', 'grape', 'lemon']\n"
          ]
        }
      ]
    },
    {
      "cell_type": "code",
      "source": [
        "print(string.split(\" \"))"
      ],
      "metadata": {
        "colab": {
          "base_uri": "https://localhost:8080/"
        },
        "id": "ZfxW3zi_K27p",
        "outputId": "7a60ad24-4e44-467b-a3fb-47d309c173aa"
      },
      "execution_count": 8,
      "outputs": [
        {
          "output_type": "stream",
          "name": "stdout",
          "text": [
            "['apple', 'banana', '', 'grape', '', 'lemon']\n"
          ]
        }
      ]
    },
    {
      "cell_type": "markdown",
      "source": [
        "## split은 공백이 1개이건, 2개이건 상관없이 무조건 1개로 보고 처리한다.\n",
        "\n",
        "## split(\"\")은 공백1개, 1개를 각각의 공백으로 따로따로 처리한다.\n",
        "**\"/t\"(탭), \"/n\"(엔터)도 처리한다.**"
      ],
      "metadata": {
        "id": "hpmRLWsKK6dl"
      }
    },
    {
      "cell_type": "markdown",
      "source": [
        "## 문자열.split() : 함수가 자동으로 띄워쓰기, 엔터 등을 인식해서 문자열을 나눈다.\n",
        "\n",
        "## 문자열.split(‘구분자’) : 함수의 파라미터로 특정 구분자를 지정한다.\n",
        "\n",
        "## 문자열.split(‘구분자’, 분할횟수) : 두 번째 파라미터인 분할 횟수는 문자열을 자르는 횟수이다.\n",
        "\n",
        "## 문자열.split(sep=’구분자’, maxsplit=분할횟수) : 파라미터에 변수를 지정한 형태이다. 바로 위의 함수와 같은 기능을 한다."
      ],
      "metadata": {
        "id": "t4ohswPJLOWU"
      }
    },
    {
      "cell_type": "code",
      "source": [
        "data = 'A,B,C,D,E,F,G'\n",
        "data_split = data.split()\n",
        "print(data_split)"
      ],
      "metadata": {
        "colab": {
          "base_uri": "https://localhost:8080/"
        },
        "id": "1Wxys1xvLSzD",
        "outputId": "b8ac50da-ef34-4ff7-a5d6-b7efc01b5874"
      },
      "execution_count": 9,
      "outputs": [
        {
          "output_type": "stream",
          "name": "stdout",
          "text": [
            "['A,B,C,D,E,F,G']\n"
          ]
        }
      ]
    },
    {
      "cell_type": "code",
      "source": [
        "data = 'A B C D E F G'\n",
        "data_split = data.split()\n",
        "print(data.split())"
      ],
      "metadata": {
        "colab": {
          "base_uri": "https://localhost:8080/"
        },
        "id": "S1Ou-2wJLmt0",
        "outputId": "63150c8f-b1f6-4793-f0c8-547107a3f8da"
      },
      "execution_count": 11,
      "outputs": [
        {
          "output_type": "stream",
          "name": "stdout",
          "text": [
            "['A', 'B', 'C', 'D', 'E', 'F', 'G']\n"
          ]
        }
      ]
    },
    {
      "cell_type": "code",
      "source": [
        "data = 'A,B,C,D,E,F,G'\n",
        "data_split = data.split(',')\n",
        "print(data_split)"
      ],
      "metadata": {
        "colab": {
          "base_uri": "https://localhost:8080/"
        },
        "id": "75mkLUy2LctU",
        "outputId": "3505ac64-ca07-45b7-9039-b5b493bf8f80"
      },
      "execution_count": 10,
      "outputs": [
        {
          "output_type": "stream",
          "name": "stdout",
          "text": [
            "['A', 'B', 'C', 'D', 'E', 'F', 'G']\n"
          ]
        }
      ]
    },
    {
      "cell_type": "markdown",
      "source": [
        "## split('구분자','구분횟수')"
      ],
      "metadata": {
        "id": "SlSyAfrcL503"
      }
    },
    {
      "cell_type": "code",
      "source": [
        "data = 'A,B,C,D,E,F,G'\n",
        "data_split = data.split(',',3)\n",
        "print(data_split)"
      ],
      "metadata": {
        "colab": {
          "base_uri": "https://localhost:8080/"
        },
        "id": "dORRCfS7LwYQ",
        "outputId": "efd00b05-87a5-4688-eaba-46cd39835927"
      },
      "execution_count": 12,
      "outputs": [
        {
          "output_type": "stream",
          "name": "stdout",
          "text": [
            "['A', 'B', 'C', 'D,E,F,G']\n"
          ]
        }
      ]
    }
  ]
}