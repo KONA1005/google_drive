{
  "nbformat": 4,
  "nbformat_minor": 0,
  "metadata": {
    "colab": {
      "name": "Chapter_9_3.ipynb",
      "provenance": [],
      "authorship_tag": "ABX9TyNE5nCojnYBGoB0c+8aPxy0",
      "include_colab_link": true
    },
    "kernelspec": {
      "name": "python3",
      "display_name": "Python 3"
    },
    "language_info": {
      "name": "python"
    }
  },
  "cells": [
    {
      "cell_type": "markdown",
      "metadata": {
        "id": "view-in-github",
        "colab_type": "text"
      },
      "source": [
        "<a href=\"https://colab.research.google.com/github/KONA1005/google_drive/blob/main/google_colab/Chapter_9_3.ipynb\" target=\"_parent\"><img src=\"https://colab.research.google.com/assets/colab-badge.svg\" alt=\"Open In Colab\"/></a>"
      ]
    },
    {
      "cell_type": "markdown",
      "source": [
        "# LSTM 신경망 훈련하기\n",
        "- RNN은 실무에서 거의 안씀!!!\n",
        "- 등장 배경\n",
        "  + 문장이 길면 학습 능력이 떨어져 그거에 대한 대안 LSTM\n",
        "  + Long Short-Term Memory\n",
        "  + 정보손실 안일어나게 해준다\n",
        "- 단기 기억을 오래오래 기억하기 위해서 고안되었다.\n",
        "\n",
        "- 입력층 안에 정보와 메모를 포스트잇으로 붙이는 컨셉(?)\n",
        "- 528p ~"
      ],
      "metadata": {
        "id": "Fl72mXNc7Ea0"
      }
    },
    {
      "cell_type": "markdown",
      "source": [
        "## 데이터 불러오기"
      ],
      "metadata": {
        "id": "slftuCWY-zjZ"
      }
    },
    {
      "cell_type": "code",
      "execution_count": null,
      "metadata": {
        "colab": {
          "base_uri": "https://localhost:8080/"
        },
        "id": "OBW4wgd16-hf",
        "outputId": "b18e759c-5b6d-47d1-81ca-c62a9147beb2"
      },
      "outputs": [
        {
          "output_type": "stream",
          "name": "stdout",
          "text": [
            "Downloading data from https://storage.googleapis.com/tensorflow/tf-keras-datasets/imdb.npz\n",
            "17465344/17464789 [==============================] - 0s 0us/step\n",
            "17473536/17464789 [==============================] - 0s 0us/step\n"
          ]
        }
      ],
      "source": [
        "from tensorflow.keras.datasets import imdb\n",
        "from sklearn.model_selection import train_test_split\n",
        "\n",
        "(train_input, train_target), (test_input, test_target) = imdb.load_data(\n",
        "    num_words=500)\n",
        "\n",
        "train_input, val_input, train_target, val_target = train_test_split(\n",
        "    train_input, train_target, test_size=0.2, random_state=42)"
      ]
    },
    {
      "cell_type": "markdown",
      "source": [
        "## padding"
      ],
      "metadata": {
        "id": "BSNgKSij-1tz"
      }
    },
    {
      "cell_type": "code",
      "source": [
        "from tensorflow.keras.preprocessing.sequence import pad_sequences\n",
        "\n",
        "train_seq = pad_sequences(train_input, maxlen=100)\n",
        "val_seq = pad_sequences(val_input, maxlen=100)"
      ],
      "metadata": {
        "id": "esL-GGyB-3Mx"
      },
      "execution_count": null,
      "outputs": []
    },
    {
      "cell_type": "markdown",
      "source": [
        "## 모형 만들기"
      ],
      "metadata": {
        "id": "UjEtarZe-6cF"
      }
    },
    {
      "cell_type": "code",
      "source": [
        "from tensorflow import keras\n",
        "model = keras.Sequential()\n",
        "model.add(keras.layers.Embedding(500, 16, input_length = 100))\n",
        "model.add(keras.layers.LSTM(8)) # SimpleRNN 대신 LSTM\n",
        "model.add(keras.layers.Dense(1, activation = 'sigmoid'))\n",
        "\n",
        "model.summary()"
      ],
      "metadata": {
        "colab": {
          "base_uri": "https://localhost:8080/"
        },
        "id": "ZMRaeoBy-9Mt",
        "outputId": "f26cb810-89fe-4b13-de93-2163c135e345"
      },
      "execution_count": null,
      "outputs": [
        {
          "output_type": "stream",
          "name": "stdout",
          "text": [
            "Model: \"sequential\"\n",
            "_________________________________________________________________\n",
            " Layer (type)                Output Shape              Param #   \n",
            "=================================================================\n",
            " embedding (Embedding)       (None, 100, 16)           8000      \n",
            "                                                                 \n",
            " lstm (LSTM)                 (None, 8)                 800       \n",
            "                                                                 \n",
            " dense (Dense)               (None, 1)                 9         \n",
            "                                                                 \n",
            "=================================================================\n",
            "Total params: 8,809\n",
            "Trainable params: 8,809\n",
            "Non-trainable params: 0\n",
            "_________________________________________________________________\n"
          ]
        }
      ]
    },
    {
      "cell_type": "code",
      "source": [
        "rmsprop = keras.optimizers.RMSprop(learning_rate=1e-4)\n",
        "model.compile(optimizer=rmsprop, loss='binary_crossentropy', \n",
        "              metrics=['accuracy'])\n",
        "\n",
        "checkpoint_cb = keras.callbacks.ModelCheckpoint('best-lstm-model.h5', \n",
        "                                                save_best_only=True)\n",
        "early_stopping_cb = keras.callbacks.EarlyStopping(patience=3,\n",
        "                                                  restore_best_weights=True)\n",
        "\n",
        "history = model.fit(train_seq, train_target, epochs=10, batch_size=64,\n",
        "                    validation_data=(val_seq, val_target),\n",
        "                    callbacks=[checkpoint_cb, early_stopping_cb]) # 에포크 원래 100개 , 느려서 10개만 돌렸다"
      ],
      "metadata": {
        "colab": {
          "base_uri": "https://localhost:8080/"
        },
        "id": "3iMvnHYW_m2X",
        "outputId": "31a15d18-9b86-4dbb-cad5-cab7e5c2ada7"
      },
      "execution_count": null,
      "outputs": [
        {
          "output_type": "stream",
          "name": "stdout",
          "text": [
            "Epoch 1/10\n",
            "313/313 [==============================] - 19s 54ms/step - loss: 0.6922 - accuracy: 0.5535 - val_loss: 0.6907 - val_accuracy: 0.6198\n",
            "Epoch 2/10\n",
            "313/313 [==============================] - 15s 47ms/step - loss: 0.6867 - accuracy: 0.6350 - val_loss: 0.6781 - val_accuracy: 0.6518\n",
            "Epoch 3/10\n",
            "313/313 [==============================] - 16s 51ms/step - loss: 0.6458 - accuracy: 0.6700 - val_loss: 0.6091 - val_accuracy: 0.7210\n",
            "Epoch 4/10\n",
            "313/313 [==============================] - 13s 42ms/step - loss: 0.5960 - accuracy: 0.7339 - val_loss: 0.5878 - val_accuracy: 0.7310\n",
            "Epoch 5/10\n",
            "313/313 [==============================] - 13s 42ms/step - loss: 0.5736 - accuracy: 0.7513 - val_loss: 0.5658 - val_accuracy: 0.7504\n",
            "Epoch 6/10\n",
            "313/313 [==============================] - 13s 41ms/step - loss: 0.5561 - accuracy: 0.7606 - val_loss: 0.5523 - val_accuracy: 0.7580\n",
            "Epoch 7/10\n",
            "313/313 [==============================] - 13s 43ms/step - loss: 0.5391 - accuracy: 0.7690 - val_loss: 0.5382 - val_accuracy: 0.7592\n",
            "Epoch 8/10\n",
            "313/313 [==============================] - 14s 43ms/step - loss: 0.5237 - accuracy: 0.7732 - val_loss: 0.5251 - val_accuracy: 0.7606\n",
            "Epoch 9/10\n",
            "313/313 [==============================] - 13s 42ms/step - loss: 0.5096 - accuracy: 0.7793 - val_loss: 0.5121 - val_accuracy: 0.7652\n",
            "Epoch 10/10\n",
            "313/313 [==============================] - 14s 45ms/step - loss: 0.4960 - accuracy: 0.7839 - val_loss: 0.5027 - val_accuracy: 0.7730\n"
          ]
        }
      ]
    },
    {
      "cell_type": "markdown",
      "source": [
        "## 손실 곡선 추가"
      ],
      "metadata": {
        "id": "tvsOooKf_rsf"
      }
    },
    {
      "cell_type": "code",
      "source": [
        "import matplotlib.pyplot as plt\n",
        "\n",
        "plt.plot(history.history['loss'])\n",
        "plt.plot(history.history['val_loss'])\n",
        "plt.xlabel('epoch')\n",
        "plt.ylabel('loss')\n",
        "plt.legend(['train', 'val'])\n",
        "plt.show()"
      ],
      "metadata": {
        "colab": {
          "base_uri": "https://localhost:8080/",
          "height": 281
        },
        "id": "1hY6ZZQl_siU",
        "outputId": "b7b0d18b-33bd-4493-84e9-a66bb0becfa9"
      },
      "execution_count": null,
      "outputs": [
        {
          "output_type": "display_data",
          "data": {
            "text/plain": [
              "<Figure size 432x288 with 1 Axes>"
            ],
            "image/png": "[encoded data removed]"
          },
          "metadata": {
            "needs_background": "light"
          }
        }
      ]
    },
    {
      "cell_type": "markdown",
      "source": [
        "## 순환층에 드롭아웃 적용하기\n",
        "- 드롭아웃 하는 이유 : 똑같은 값만 나오고 연산 출력이 안돼, 얘는 0값이 너무 많아"
      ],
      "metadata": {
        "id": "-2TA9gu9AMhx"
      }
    },
    {
      "cell_type": "code",
      "source": [
        "model2 = keras.Sequential()\n",
        "\n",
        "model2.add(keras.layers.Embedding(500, 16, input_length=100))\n",
        "# 드롭아웃 추가\n",
        "model2.add(keras.layers.LSTM(8, dropout=0.3))\n",
        "model2.add(keras.layers.Dense(1, activation='sigmoid'))\n",
        "\n",
        "rmsprop = keras.optimizers.RMSprop(learning_rate=1e-4)\n",
        "model2.compile(optimizer=rmsprop, loss='binary_crossentropy', \n",
        "               metrics=['accuracy'])\n",
        "\n",
        "checkpoint_cb = keras.callbacks.ModelCheckpoint('best-dropout-model.h5', \n",
        "                                                save_best_only=True)\n",
        "early_stopping_cb = keras.callbacks.EarlyStopping(patience=3,\n",
        "                                                  restore_best_weights=True)\n",
        "\n",
        "# epcohs = 100\n",
        "history = model2.fit(train_seq, train_target, epochs=10, batch_size=64,\n",
        "                     validation_data=(val_seq, val_target),\n",
        "                     callbacks=[checkpoint_cb, early_stopping_cb])\n",
        "\n",
        "plt.plot(history.history['loss'])\n",
        "plt.plot(history.history['val_loss'])\n",
        "plt.xlabel('epoch')\n",
        "plt.ylabel('loss')\n",
        "plt.legend(['train', 'val'])\n",
        "plt.show()"
      ],
      "metadata": {
        "colab": {
          "base_uri": "https://localhost:8080/",
          "height": 645
        },
        "id": "1OA9MiTzAocx",
        "outputId": "a5cdc1b8-6180-4e94-93ca-a43b3f790af7"
      },
      "execution_count": null,
      "outputs": [
        {
          "output_type": "stream",
          "name": "stdout",
          "text": [
            "Epoch 1/10\n",
            "313/313 [==============================] - 17s 45ms/step - loss: 0.6919 - accuracy: 0.5434 - val_loss: 0.6902 - val_accuracy: 0.6140\n",
            "Epoch 2/10\n",
            "313/313 [==============================] - 14s 44ms/step - loss: 0.6875 - accuracy: 0.6133 - val_loss: 0.6832 - val_accuracy: 0.6514\n",
            "Epoch 3/10\n",
            "313/313 [==============================] - 14s 45ms/step - loss: 0.6728 - accuracy: 0.6614 - val_loss: 0.6526 - val_accuracy: 0.6858\n",
            "Epoch 4/10\n",
            "313/313 [==============================] - 14s 45ms/step - loss: 0.6069 - accuracy: 0.7078 - val_loss: 0.5765 - val_accuracy: 0.7154\n",
            "Epoch 5/10\n",
            "313/313 [==============================] - 14s 44ms/step - loss: 0.5606 - accuracy: 0.7297 - val_loss: 0.5457 - val_accuracy: 0.7460\n",
            "Epoch 6/10\n",
            "313/313 [==============================] - 14s 44ms/step - loss: 0.5341 - accuracy: 0.7536 - val_loss: 0.5217 - val_accuracy: 0.7604\n",
            "Epoch 7/10\n",
            "313/313 [==============================] - 14s 44ms/step - loss: 0.5142 - accuracy: 0.7628 - val_loss: 0.5029 - val_accuracy: 0.7732\n",
            "Epoch 8/10\n",
            "313/313 [==============================] - 14s 45ms/step - loss: 0.4944 - accuracy: 0.7749 - val_loss: 0.4893 - val_accuracy: 0.7778\n",
            "Epoch 9/10\n",
            "313/313 [==============================] - 14s 43ms/step - loss: 0.4822 - accuracy: 0.7808 - val_loss: 0.4776 - val_accuracy: 0.7858\n",
            "Epoch 10/10\n",
            "313/313 [==============================] - 14s 43ms/step - loss: 0.4716 - accuracy: 0.7857 - val_loss: 0.4714 - val_accuracy: 0.7854\n"
          ]
        },
        {
          "output_type": "display_data",
          "data": {
            "text/plain": [
              "<Figure size 432x288 with 1 Axes>"
            ],
            "image/png": "[encoded data removed]"
          },
          "metadata": {
            "needs_background": "light"
          }
        }
      ]
    }
  ]
}