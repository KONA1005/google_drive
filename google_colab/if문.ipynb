{
  "nbformat": 4,
  "nbformat_minor": 0,
  "metadata": {
    "colab": {
      "name": "if문.ipynb",
      "provenance": [],
      "authorship_tag": "ABX9TyNxLPp5u2Px/rsrHIU9f3gs",
      "include_colab_link": true
    },
    "kernelspec": {
      "name": "python3",
      "display_name": "Python 3"
    },
    "language_info": {
      "name": "python"
    }
  },
  "cells": [
    {
      "cell_type": "markdown",
      "metadata": {
        "id": "view-in-github",
        "colab_type": "text"
      },
      "source": [
        "<a href=\"https://colab.research.google.com/github/KONA1005/google_drive/blob/main/google_colab/if%EB%AC%B8.ipynb\" target=\"_parent\"><img src=\"https://colab.research.google.com/assets/colab-badge.svg\" alt=\"Open In Colab\"/></a>"
      ]
    },
    {
      "cell_type": "markdown",
      "source": [
        "# IF문\n",
        "들여쓰기를 주의해야 한다.\n",
        "참과 거짓을 판단"
      ],
      "metadata": {
        "id": "eLxdY1gI-au7"
      }
    },
    {
      "cell_type": "markdown",
      "source": [
        "- x < y\tx가 y보다 작다\n",
        "- x > y\tx가 y보다 크다\n",
        "- x == y\tx와 y가 같다\n",
        "- x != y\tx와 y가 같지 않다\n",
        "- x >= y\tx가 y보다 크거나 같다\n",
        "- x <= y\tx가 y보다 작거나 같다"
      ],
      "metadata": {
        "id": "f4PaSPwc_Fue"
      }
    },
    {
      "cell_type": "code",
      "execution_count": null,
      "metadata": {
        "id": "8Lh2FO4N-XVa"
      },
      "outputs": [],
      "source": [
        "if 조건문:\n",
        "    수행할 문장1\n",
        "    수행할 문장2\n",
        "else :\n",
        "    수행할 문장a\n",
        "    수행할 문장b\n",
        "  "
      ]
    },
    {
      "cell_type": "markdown",
      "source": [
        "|in    |not in|\n",
        "|------ |  ---|\n",
        "|x in 리스트 | x not in 리스트|\n",
        "|x in 튜플 | x not in 튜플 |\n",
        "|x in 문자열 | x not in 문자열 | "
      ],
      "metadata": {
        "id": "pcgon2zk_0Hv"
      }
    },
    {
      "cell_type": "code",
      "source": [
        "pocket = ['paper', 'cellphone', 'money']\n",
        "if 'money' in pocket:\n",
        "    print(\"택시를 타고 가라\")\n",
        "else:\n",
        "    print(\"걸어가라\")\n",
        "  "
      ],
      "metadata": {
        "colab": {
          "base_uri": "https://localhost:8080/"
        },
        "id": "xy48YutOAtZS",
        "outputId": "789cb5ca-040e-46c5-ba79-8784aab6ec18"
      },
      "execution_count": null,
      "outputs": [
        {
          "output_type": "stream",
          "name": "stdout",
          "text": [
            "택시를 타고 가라\n"
          ]
        }
      ]
    },
    {
      "cell_type": "markdown",
      "source": [
        "\n",
        "\n",
        "```\n",
        "If <조건문>:\n",
        "    <수행할 문장1> \n",
        "    <수행할 문장2>\n",
        "    ...\n",
        "elif <조건문>:\n",
        "    <수행할 문장1>\n",
        "    <수행할 문장2>\n",
        "    ...\n",
        "elif <조건문>:\n",
        "    <수행할 문장1>\n",
        "    <수행할 문장2>\n",
        "    ...\n",
        "...\n",
        "else:\n",
        "   <수행할 문장1>\n",
        "   <수행할 문장2>\n",
        "   ... \n",
        "```\n",
        "\n"
      ],
      "metadata": {
        "id": "LSB3-wth1-_i"
      }
    }
  ]
}