{
  "nbformat": 4,
  "nbformat_minor": 0,
  "metadata": {
    "colab": {
      "name": "Chapter_9_1.ipynb",
      "provenance": [],
      "authorship_tag": "ABX9TyOReOvXfMcs5ZrN+NEzkpMn",
      "include_colab_link": true
    },
    "kernelspec": {
      "name": "python3",
      "display_name": "Python 3"
    },
    "language_info": {
      "name": "python"
    }
  },
  "cells": [
    {
      "cell_type": "markdown",
      "metadata": {
        "id": "view-in-github",
        "colab_type": "text"
      },
      "source": [
        "<a href=\"https://colab.research.google.com/github/KONA1005/google_drive/blob/main/google_colab/Chapter_9_1.ipynb\" target=\"_parent\"><img src=\"https://colab.research.google.com/assets/colab-badge.svg\" alt=\"Open In Colab\"/></a>"
      ]
    },
    {
      "cell_type": "markdown",
      "source": [
        "# 순차 데이터와 순환 신경망\n",
        "- 초급 레벨 : 기초통계 ( t.test, 분산분석, 회귀분석 등)\n",
        "- 중급 레벨 : 시계열 분석 / 베이지안 / 비모수검정\n",
        "- 시계열 데이터 : 주식 /  날씨 / 매장매출 등\n",
        "  + R 로 공부할 것\n",
        "  \n"
      ],
      "metadata": {
        "id": "tRjfQs7vcreU"
      }
    },
    {
      "cell_type": "markdown",
      "source": [
        "# 텍스트\n",
        "- 텍스트 마이닝 ( 데이터 분석가 )\n",
        "  + 대표적으로 감정분석( 긍정 / 부정 분류)\n",
        "  + 문자열 : 인코딩하는 방법론이 존재\n",
        "\n",
        "- 자연어 처리 ( 개발자에 해당 )\n",
        "  + 챗봇 ( 툴은 다 존재함 ) \n",
        "  + 자동 번역\n",
        "\n",
        "- 기본 딥러닝 알고리즘 / RNN & LSTM\n",
        "  + 현실에선 안씀 성능이 안좋아서\n",
        "- 열심히 공부하고 싶다?  자료 여기\n",
        "  + 딥러닝을 이용한 자연어 처리 입문 (텐서플로)\n",
        "    + https://wikidocs.net/book/2155\n",
        "  + Pytorch 로 시작하는 딥러닝 입문 \n",
        "    + https://wikidocs.net/32471\n",
        "\n",
        "- 분야 선정\n",
        "  + 영상인식, 이미지 분류, 음성, 자연어 ...\n"
      ],
      "metadata": {
        "id": "HjTVE6ygyXJU"
      }
    },
    {
      "cell_type": "markdown",
      "source": [
        "# 순환 신경망\n",
        "- 이미지는 픽셀값이 어느정도 고정되어 있음\n",
        "  + 28 x 28로 정의 /  -> 모든 데이터는 28 x 28로 맞출 수 있음\n",
        "\n",
        "- 텍스트\n",
        "  + 값의 고정이 불가능\n",
        "  \n",
        "- 494p\n",
        "- I am a boy (1, 4, 3)\n",
        "- I am a handsome boy (1, 4, 1, 2)\n"
      ],
      "metadata": {
        "id": "EtVKSqMd0lqP"
      }
    },
    {
      "cell_type": "code",
      "execution_count": null,
      "metadata": {
        "id": "D0KmbM-9ZBPl"
      },
      "outputs": [],
      "source": [
        ""
      ]
    }
  ]
}